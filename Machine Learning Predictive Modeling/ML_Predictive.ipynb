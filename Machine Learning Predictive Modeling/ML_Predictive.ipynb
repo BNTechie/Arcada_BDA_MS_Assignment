{
 "cells": [
  {
   "cell_type": "code",
   "execution_count": 1,
   "id": "51a4c40d",
   "metadata": {},
   "outputs": [
    {
     "name": "stdout",
     "output_type": "stream",
     "text": [
      "Requirement already satisfied: ucimlrepo in c:\\users\\s160811\\appdata\\local\\anaconda3\\lib\\site-packages (0.0.7)\n",
      "Requirement already satisfied: pandas>=1.0.0 in c:\\users\\s160811\\appdata\\roaming\\python\\python311\\site-packages (from ucimlrepo) (2.2.3)\n",
      "Requirement already satisfied: certifi>=2020.12.5 in c:\\users\\s160811\\appdata\\local\\anaconda3\\lib\\site-packages (from ucimlrepo) (2024.7.4)\n",
      "Requirement already satisfied: numpy>=1.23.2 in c:\\users\\s160811\\appdata\\local\\anaconda3\\lib\\site-packages (from pandas>=1.0.0->ucimlrepo) (1.26.4)\n",
      "Requirement already satisfied: python-dateutil>=2.8.2 in c:\\users\\s160811\\appdata\\local\\anaconda3\\lib\\site-packages (from pandas>=1.0.0->ucimlrepo) (2.8.2)\n",
      "Requirement already satisfied: pytz>=2020.1 in c:\\users\\s160811\\appdata\\local\\anaconda3\\lib\\site-packages (from pandas>=1.0.0->ucimlrepo) (2023.3.post1)\n",
      "Requirement already satisfied: tzdata>=2022.7 in c:\\users\\s160811\\appdata\\local\\anaconda3\\lib\\site-packages (from pandas>=1.0.0->ucimlrepo) (2023.3)\n",
      "Requirement already satisfied: six>=1.5 in c:\\users\\s160811\\appdata\\local\\anaconda3\\lib\\site-packages (from python-dateutil>=2.8.2->pandas>=1.0.0->ucimlrepo) (1.16.0)\n"
     ]
    }
   ],
   "source": [
    "!pip install ucimlrepo\n",
    "\n"
   ]
  },
  {
   "cell_type": "code",
   "execution_count": 2,
   "id": "910d9beb",
   "metadata": {},
   "outputs": [
    {
     "name": "stderr",
     "output_type": "stream",
     "text": [
      "C:\\Users\\s160811\\AppData\\Roaming\\Python\\Python311\\site-packages\\pandas\\core\\arrays\\masked.py:60: UserWarning: Pandas requires version '1.3.6' or newer of 'bottleneck' (version '1.3.5' currently installed).\n",
      "  from pandas.core import (\n"
     ]
    }
   ],
   "source": [
    "\n",
    "from ucimlrepo import fetch_ucirepo \n",
    "from sklearn.datasets import fetch_olivetti_faces\n",
    "from sklearn.datasets import load_linnerud\n",
    "from sklearn.decomposition import KernelPCA\n",
    "from sklearn.linear_model import LinearRegression,Ridge\n",
    "import matplotlib.pyplot as plt\n",
    "import seaborn as sns\n",
    "from scipy.stats import gaussian_kde\n",
    "from sklearn.svm import SVC\n",
    "from sklearn.datasets import load_iris\n",
    "from sklearn.model_selection import train_test_split\n",
    "from sklearn.tree import DecisionTreeRegressor\n",
    "from sklearn.preprocessing import StandardScaler\n",
    "from sklearn.preprocessing import MinMaxScaler\n",
    "from sklearn.ensemble import RandomForestClassifier\n",
    "from sklearn.metrics import accuracy_score, classification_report\n",
    "from sklearn.cluster import AgglomerativeClustering\n",
    "from sklearn.neighbors import KNeighborsClassifier\n",
    "from scipy.cluster.hierarchy import dendrogram, linkage\n",
    "from sklearn.cluster import SpectralClustering\n",
    "from sklearn.linear_model import Ridge\n",
    "from sklearn.naive_bayes import GaussianNB\n",
    "from sklearn.model_selection import GridSearchCV\n",
    "from sklearn.model_selection import RandomizedSearchCV\n",
    "from sklearn.linear_model import LogisticRegression\n",
    "from sklearn.cluster import KMeans\n",
    "from sklearn.metrics import confusion_matrix\n",
    "import pandas as pd\n",
    "import numpy as np\n",
    "import re\n",
    "from scipy.stats import norm\n",
    "import warnings\n",
    "warnings.filterwarnings(\"ignore\")\n",
    "\n"
   ]
  },
  {
   "cell_type": "markdown",
   "id": "71442c69",
   "metadata": {},
   "source": [
    "## Task 1 (5 points): Regression\n",
    "\n",
    "##### Dataset: Superconductivity \n",
    "* Number of records: 21263 \n",
    "* Number of features: 81 + 1 (target/output feature) \n",
    "* Repository URL: https://archive.ics.uci.edu/ml/datasets/Superconductivty+Data\n",
    "\n",
    "##### Problems\n",
    "__a.__ Train two regression models to predict the critical temperature. Report the score with the default parameters of each model.\\\n",
    "__b.__ Perform a simple manual optimization for one of the default parameters (at least 5 different values) and plot the new obtained scores as a function of the chosen parameter. Plot the coefficient magnitudes for the best obtained model."
   ]
  },
  {
   "cell_type": "markdown",
   "id": "225cf3e6",
   "metadata": {},
   "source": [
    "# Answer_Task-1\n"
   ]
  },
  {
   "cell_type": "code",
   "execution_count": 3,
   "id": "19ea68ae",
   "metadata": {},
   "outputs": [],
   "source": [
    "superconductivty_data = fetch_ucirepo(id=464) \n",
    "\n",
    "#split into target and featuires\n",
    "y  = superconductivty_data.data.targets \n",
    "X= superconductivty_data.data.features "
   ]
  },
  {
   "cell_type": "code",
   "execution_count": 4,
   "id": "23391bc9",
   "metadata": {},
   "outputs": [
    {
     "name": "stdout",
     "output_type": "stream",
     "text": [
      "<class 'pandas.core.frame.DataFrame'>\n",
      "RangeIndex: 21263 entries, 0 to 21262\n",
      "Data columns (total 81 columns):\n",
      " #   Column                           Non-Null Count  Dtype  \n",
      "---  ------                           --------------  -----  \n",
      " 0   number_of_elements               21263 non-null  int64  \n",
      " 1   mean_atomic_mass                 21263 non-null  float64\n",
      " 2   wtd_mean_atomic_mass             21263 non-null  float64\n",
      " 3   gmean_atomic_mass                21263 non-null  float64\n",
      " 4   wtd_gmean_atomic_mass            21263 non-null  float64\n",
      " 5   entropy_atomic_mass              21263 non-null  float64\n",
      " 6   wtd_entropy_atomic_mass          21263 non-null  float64\n",
      " 7   range_atomic_mass                21263 non-null  float64\n",
      " 8   wtd_range_atomic_mass            21263 non-null  float64\n",
      " 9   std_atomic_mass                  21263 non-null  float64\n",
      " 10  wtd_std_atomic_mass              21263 non-null  float64\n",
      " 11  mean_fie                         21263 non-null  float64\n",
      " 12  wtd_mean_fie                     21263 non-null  float64\n",
      " 13  gmean_fie                        21263 non-null  float64\n",
      " 14  wtd_gmean_fie                    21263 non-null  float64\n",
      " 15  entropy_fie                      21263 non-null  float64\n",
      " 16  wtd_entropy_fie                  21263 non-null  float64\n",
      " 17  range_fie                        21263 non-null  float64\n",
      " 18  wtd_range_fie                    21263 non-null  float64\n",
      " 19  std_fie                          21263 non-null  float64\n",
      " 20  wtd_std_fie                      21263 non-null  float64\n",
      " 21  mean_atomic_radius               21263 non-null  float64\n",
      " 22  wtd_mean_atomic_radius           21263 non-null  float64\n",
      " 23  gmean_atomic_radius              21263 non-null  float64\n",
      " 24  wtd_gmean_atomic_radius          21263 non-null  float64\n",
      " 25  entropy_atomic_radius            21263 non-null  float64\n",
      " 26  wtd_entropy_atomic_radius        21263 non-null  float64\n",
      " 27  range_atomic_radius              21263 non-null  int64  \n",
      " 28  wtd_range_atomic_radius          21263 non-null  float64\n",
      " 29  std_atomic_radius                21263 non-null  float64\n",
      " 30  wtd_std_atomic_radius            21263 non-null  float64\n",
      " 31  mean_Density                     21263 non-null  float64\n",
      " 32  wtd_mean_Density                 21263 non-null  float64\n",
      " 33  gmean_Density                    21263 non-null  float64\n",
      " 34  wtd_gmean_Density                21263 non-null  float64\n",
      " 35  entropy_Density                  21263 non-null  float64\n",
      " 36  wtd_entropy_Density              21263 non-null  float64\n",
      " 37  range_Density                    21263 non-null  float64\n",
      " 38  wtd_range_Density                21263 non-null  float64\n",
      " 39  std_Density                      21263 non-null  float64\n",
      " 40  wtd_std_Density                  21263 non-null  float64\n",
      " 41  mean_ElectronAffinity            21263 non-null  float64\n",
      " 42  wtd_mean_ElectronAffinity        21263 non-null  float64\n",
      " 43  gmean_ElectronAffinity           21263 non-null  float64\n",
      " 44  wtd_gmean_ElectronAffinity       21263 non-null  float64\n",
      " 45  entropy_ElectronAffinity         21263 non-null  float64\n",
      " 46  wtd_entropy_ElectronAffinity     21263 non-null  float64\n",
      " 47  range_ElectronAffinity           21263 non-null  float64\n",
      " 48  wtd_range_ElectronAffinity       21263 non-null  float64\n",
      " 49  std_ElectronAffinity             21263 non-null  float64\n",
      " 50  wtd_std_ElectronAffinity         21263 non-null  float64\n",
      " 51  mean_FusionHeat                  21263 non-null  float64\n",
      " 52  wtd_mean_FusionHeat              21263 non-null  float64\n",
      " 53  gmean_FusionHeat                 21263 non-null  float64\n",
      " 54  wtd_gmean_FusionHeat             21263 non-null  float64\n",
      " 55  entropy_FusionHeat               21263 non-null  float64\n",
      " 56  wtd_entropy_FusionHeat           21263 non-null  float64\n",
      " 57  range_FusionHeat                 21263 non-null  float64\n",
      " 58  wtd_range_FusionHeat             21263 non-null  float64\n",
      " 59  std_FusionHeat                   21263 non-null  float64\n",
      " 60  wtd_std_FusionHeat               21263 non-null  float64\n",
      " 61  mean_ThermalConductivity         21263 non-null  float64\n",
      " 62  wtd_mean_ThermalConductivity     21263 non-null  float64\n",
      " 63  gmean_ThermalConductivity        21263 non-null  float64\n",
      " 64  wtd_gmean_ThermalConductivity    21263 non-null  float64\n",
      " 65  entropy_ThermalConductivity      21263 non-null  float64\n",
      " 66  wtd_entropy_ThermalConductivity  21263 non-null  float64\n",
      " 67  range_ThermalConductivity        21263 non-null  float64\n",
      " 68  wtd_range_ThermalConductivity    21263 non-null  float64\n",
      " 69  std_ThermalConductivity          21263 non-null  float64\n",
      " 70  wtd_std_ThermalConductivity      21263 non-null  float64\n",
      " 71  mean_Valence                     21263 non-null  float64\n",
      " 72  wtd_mean_Valence                 21263 non-null  float64\n",
      " 73  gmean_Valence                    21263 non-null  float64\n",
      " 74  wtd_gmean_Valence                21263 non-null  float64\n",
      " 75  entropy_Valence                  21263 non-null  float64\n",
      " 76  wtd_entropy_Valence              21263 non-null  float64\n",
      " 77  range_Valence                    21263 non-null  int64  \n",
      " 78  wtd_range_Valence                21263 non-null  float64\n",
      " 79  std_Valence                      21263 non-null  float64\n",
      " 80  wtd_std_Valence                  21263 non-null  float64\n",
      "dtypes: float64(78), int64(3)\n",
      "memory usage: 13.1 MB\n"
     ]
    }
   ],
   "source": [
    "X.info()\n",
    "\n",
    "# 81 columns, 21263 observations, no missing value"
   ]
  },
  {
   "cell_type": "code",
   "execution_count": 5,
   "id": "c5949bbd",
   "metadata": {},
   "outputs": [
    {
     "name": "stdout",
     "output_type": "stream",
     "text": [
      "<class 'pandas.core.frame.DataFrame'>\n",
      "RangeIndex: 21263 entries, 0 to 21262\n",
      "Data columns (total 1 columns):\n",
      " #   Column         Non-Null Count  Dtype  \n",
      "---  ------         --------------  -----  \n",
      " 0   critical_temp  21263 non-null  float64\n",
      "dtypes: float64(1)\n",
      "memory usage: 166.2 KB\n"
     ]
    }
   ],
   "source": [
    "y.info()\n",
    "\n",
    "# critical temperature is the target variable"
   ]
  },
  {
   "cell_type": "markdown",
   "id": "497dcc0f",
   "metadata": {},
   "source": [
    "### Task-1(a)"
   ]
  },
  {
   "cell_type": "code",
   "execution_count": 6,
   "id": "fa7769c3",
   "metadata": {},
   "outputs": [],
   "source": [
    "#split the train and test dataset\n",
    "X_train, X_test, y_train, y_test = train_test_split(X, y, random_state=0)\n",
    "\n",
    "#Scaling X and y. its usual in linear regression to scale continuous target variable too \n",
    "Scaler_X=StandardScaler()\n",
    "Scaler_X.fit(X_train)\n",
    "Scaler_y=StandardScaler()\n",
    "Scaler_y.fit(y_train)\n",
    "\n",
    "X_train_scaled=Scaler_X.transform(X_train)\n",
    "X_test_scaled=Scaler_X.transform(X_test)\n",
    "\n",
    "y_train_scaled= Scaler_y.transform(y_train)\n",
    "y_test_scaled=Scaler_y.transform(y_test)"
   ]
  },
  {
   "cell_type": "code",
   "execution_count": 7,
   "id": "55047035",
   "metadata": {},
   "outputs": [
    {
     "name": "stdout",
     "output_type": "stream",
     "text": [
      "Training set score: 0.7375\n",
      "Test set score: 0.7359\n"
     ]
    }
   ],
   "source": [
    "# fitting first regression model (Linear Regression)\n",
    "model_LR = LinearRegression() # Setting linear Regression\n",
    "model_LR.fit(X_train_scaled, y_train_scaled) # Training linear regression\n",
    "\n",
    "#print the performance on train and test set\n",
    "print(\"Training set score: {:.4f}\".format(model_LR.score(X_train_scaled, y_train_scaled)))\n",
    "print(\"Test set score: {:.4f}\".format(model_LR.score(X_test_scaled, y_test_scaled)))"
   ]
  },
  {
   "cell_type": "code",
   "execution_count": 8,
   "id": "b3fa6440",
   "metadata": {},
   "outputs": [
    {
     "name": "stdout",
     "output_type": "stream",
     "text": [
      "Training set score: 0.99\n",
      "Test set score: 0.8720\n"
     ]
    }
   ],
   "source": [
    "# fitting Second Regression Model (Decision tree regression)\n",
    "# Note: Decision tree regression does not need scaling the features so we use unscaled data here\n",
    "# Default parameter max tree depth is 'none' in decison tree regression\n",
    "\n",
    "dt_model = DecisionTreeRegressor() # Setting model\n",
    "dt_model.fit(X_train, y_train) # training model\n",
    "\n",
    "dt_training_score = dt_model.score(X_train, y_train) # training set performance\n",
    "dt_test_score = dt_model.score(X_test, y_test) # Test set performance\n",
    "\n",
    "\n",
    "#print the performance on train and test set\n",
    "print(\"Training set score: {:.2f}\".format(dt_training_score))\n",
    "print(\"Test set score: {:.4f}\".format(dt_test_score))"
   ]
  },
  {
   "cell_type": "markdown",
   "id": "e62b57d6",
   "metadata": {},
   "source": [
    "### Results of Task-1(a):\n",
    "- We have fitted two models linear regression and decision tree regression.\n",
    "- Test set score for linear regression is just 0.7359, whereas decision tree regression model has the test set score 0.8726\n",
    "- So decision tree regression has better performance."
   ]
  },
  {
   "cell_type": "markdown",
   "id": "f1454e4f",
   "metadata": {},
   "source": [
    "### Task-1(b)"
   ]
  },
  {
   "cell_type": "code",
   "execution_count": 9,
   "id": "adc6dec1",
   "metadata": {},
   "outputs": [
    {
     "data": {
      "image/png": "[encoded data removed]",
      "text/plain": [
       "<Figure size 640x480 with 1 Axes>"
      ]
     },
     "metadata": {},
     "output_type": "display_data"
    }
   ],
   "source": [
    "# Parameter optimization for Decision Tree Regressor. Here we vary the max_depth and compare performance\n",
    "\n",
    "max_depth_values = [5, 10, 15, 20, 25]\n",
    "scores = []\n",
    "\n",
    "for max_depth in max_depth_values:\n",
    "    dt_model = DecisionTreeRegressor(max_depth=max_depth)\n",
    "    dt_model.fit(X_train, y_train)\n",
    "    test_score = dt_model.score(X_test, y_test)\n",
    "    scores.append(test_score)\n",
    "\n",
    "# Plot scores as a function of max_depth\n",
    "plt.plot(max_depth_values, scores, marker='o')\n",
    "plt.xlabel('max_depth')\n",
    "plt.ylabel('Model Score on test sample')\n",
    "plt.title('Decision Tree Regressor Performance')\n",
    "plt.show()"
   ]
  },
  {
   "cell_type": "markdown",
   "id": "87fd8a96",
   "metadata": {},
   "source": [
    "#### Coefficients' magnitudes for best obtained model.\n",
    "- For decision tree regressions we cant get the feature coefficients like we do in linear regression\n",
    "- Instead we have an equivalent attribute called feature importance, which can be thought as the magnitudes of coefficients\n",
    "- So we get here the feature importance of best decision tree regression model."
   ]
  },
  {
   "cell_type": "code",
   "execution_count": 10,
   "id": "02c11346",
   "metadata": {},
   "outputs": [
    {
     "name": "stdout",
     "output_type": "stream",
     "text": [
      "Test set score for best model: 0.8737\n",
      "Best max tree depth: 15\n"
     ]
    }
   ],
   "source": [
    "# Find best max_depth based on test score and fit the best model\n",
    "best_max_depth = max_depth_values[np.argmax(scores)] # np.argmax(scores) gives the index of maximum test score\n",
    "\n",
    "best_dt_model = DecisionTreeRegressor(max_depth=best_max_depth) # Setting model with otimum depth\n",
    "best_dt_model.fit(X_train, y_train) # Training best model\n",
    "best_test_score=best_dt_model.score(X_test, y_test) #test sample performance for best model\n",
    "\n",
    "print(\"Test set score for best model: {:.4f}\".format(best_test_score))\n",
    "print(\"Best max tree depth:\",best_max_depth)\n"
   ]
  },
  {
   "cell_type": "code",
   "execution_count": 11,
   "id": "5a08ede5",
   "metadata": {},
   "outputs": [
    {
     "data": {
      "image/png": "[encoded data removed]",
      "text/plain": [
       "<Figure size 640x480 with 1 Axes>"
      ]
     },
     "metadata": {},
     "output_type": "display_data"
    }
   ],
   "source": [
    "## Plotting feature importance (feature coefficient magnitudes)\n",
    "\n",
    "feature_importances = best_dt_model.feature_importances_\n",
    "plt.bar(range(len(feature_importances)), feature_importances)\n",
    "plt.xlabel('Feature Index')\n",
    "plt.ylabel('Feature Importance')\n",
    "plt.title('Coefficient Magnitudes (Feature Importance)')\n",
    "plt.show()"
   ]
  },
  {
   "cell_type": "markdown",
   "id": "daff2c2a",
   "metadata": {},
   "source": [
    "### Results of Task-1(b):\n",
    "- we varied the parameter max tree depth and found that decision tree regression gives best performance when max tree depth is 20 out of the list [5, 10, 15, 20, 25]\n",
    "- test score for best model is 0.8750.\n",
    "- We plotted feature importance (equivalent to magnitudes of coefficient in linear regression) and observed that 67'th and 64'th features are most important.\n",
    "- 67'th feature is 'range_ThermalConductivity' and 64'th feature is 'wtd_gmean_ThermalConductivity'"
   ]
  },
  {
   "cell_type": "markdown",
   "id": "6bd045f0",
   "metadata": {},
   "source": [
    "## Task 2 (10 points): Multiclass & binary classification \n",
    "\n",
    "##### Dataset:  Drug consumption (quantified)\n",
    "* Number of records: 1885\n",
    "* Number of features: 12 + 18 (target/output features)\n",
    "* Repository URL: https://archive.ics.uci.edu/ml/datasets/Drug+consumption+%28quantified%29\n",
    "* Reference: Fehrman, Elaine, Awaz K. Muhammad, Evgeny M. Mirkes, Vincent Egan, and Alexander N. Gorban. \"The five factor model of personality and evaluation of drug consumption risk.\" In Data science: innovative developments in data analysis and clustering, pp. 231-242. Springer International Publishing, 2017.\n",
    "\n",
    "##### Problems\n",
    "__a.__ Select 2 out of 18 output features, then predict each selected feature by using a multiclass classification model. (Hint: Use numerical values to represent each class of an output feature) Report the accuracy with the default parameters of each model. (__Note__: two different multiclass classification models must be used) \\\n",
    "__b.__ Perform a simple manual optimization for one of the default parameters (at least 5 different values) for one of the previous models. Plot the obtained accuracy as a function of the chosen parameter. \\\n",
    "__c.__ Train one multiclass classification model to predict 16 output features (exclude 2 output features from a). Comment on the accuracy of predicting each feature, for all the 7 classes. \\\n",
    "__d.__ Run one binary classification model for 3 out of 18 output features. Evaluate the performance of the model with different setups as follows. \n",
    " - (class 0) the variables \"Never Used\" and \"Used in Last Decade\" and (class 1) the remaining variables.\n",
    " - (class 0) the variables \"Never Used\", \"Used in Last Decade\" and \"Used in Last Year\" and (class 1) the remaining variables.\n",
    " - (class 0) the variables \"Never Used\", \"Used in Last Decade\", \"Used in Last Year\" and \"Used in Last Month\" and (class 1) the remaining variables.\n",
    " \n",
    "__NOTE__: Comment your results, and the best setups in d."
   ]
  },
  {
   "cell_type": "markdown",
   "id": "e2dda26f",
   "metadata": {},
   "source": [
    "## Answer_Task-2"
   ]
  },
  {
   "cell_type": "code",
   "execution_count": 12,
   "id": "72fe5bc7",
   "metadata": {},
   "outputs": [],
   "source": [
    "\n",
    "# fetch dataset \n",
    "\n",
    "drug_consumption = fetch_ucirepo(id=373) \n",
    "  \n",
    "# data (as pandas dataframes) \n",
    "X = drug_consumption.data.features \n",
    "y = drug_consumption.data.targets \n",
    "  "
   ]
  },
  {
   "cell_type": "code",
   "execution_count": 13,
   "id": "97eb9fc1",
   "metadata": {},
   "outputs": [
    {
     "name": "stdout",
     "output_type": "stream",
     "text": [
      "<class 'pandas.core.frame.DataFrame'>\n",
      "RangeIndex: 1885 entries, 0 to 1884\n",
      "Data columns (total 12 columns):\n",
      " #   Column     Non-Null Count  Dtype  \n",
      "---  ------     --------------  -----  \n",
      " 0   age        1885 non-null   float64\n",
      " 1   gender     1885 non-null   float64\n",
      " 2   education  1885 non-null   float64\n",
      " 3   country    1885 non-null   float64\n",
      " 4   ethnicity  1885 non-null   float64\n",
      " 5   nscore     1885 non-null   float64\n",
      " 6   escore     1885 non-null   float64\n",
      " 7   oscore     1885 non-null   float64\n",
      " 8   ascore     1885 non-null   float64\n",
      " 9   cscore     1885 non-null   float64\n",
      " 10  impuslive  1885 non-null   float64\n",
      " 11  ss         1885 non-null   float64\n",
      "dtypes: float64(12)\n",
      "memory usage: 176.8 KB\n"
     ]
    }
   ],
   "source": [
    "# getting Features' information\n",
    "X.info()"
   ]
  },
  {
   "cell_type": "code",
   "execution_count": 14,
   "id": "26f449b9",
   "metadata": {},
   "outputs": [
    {
     "name": "stdout",
     "output_type": "stream",
     "text": [
      "<class 'pandas.core.frame.DataFrame'>\n",
      "RangeIndex: 1885 entries, 0 to 1884\n",
      "Data columns (total 19 columns):\n",
      " #   Column     Non-Null Count  Dtype \n",
      "---  ------     --------------  ----- \n",
      " 0   alcohol    1885 non-null   object\n",
      " 1   amphet     1885 non-null   object\n",
      " 2   amyl       1885 non-null   object\n",
      " 3   benzos     1885 non-null   object\n",
      " 4   caff       1885 non-null   object\n",
      " 5   cannabis   1885 non-null   object\n",
      " 6   choc       1885 non-null   object\n",
      " 7   coke       1885 non-null   object\n",
      " 8   crack      1885 non-null   object\n",
      " 9   ecstasy    1885 non-null   object\n",
      " 10  heroin     1885 non-null   object\n",
      " 11  ketamine   1885 non-null   object\n",
      " 12  legalh     1885 non-null   object\n",
      " 13  lsd        1885 non-null   object\n",
      " 14  meth       1885 non-null   object\n",
      " 15  mushrooms  1885 non-null   object\n",
      " 16  nicotine   1885 non-null   object\n",
      " 17  semer      1885 non-null   object\n",
      " 18  vsa        1885 non-null   object\n",
      "dtypes: object(19)\n",
      "memory usage: 279.9+ KB\n"
     ]
    }
   ],
   "source": [
    "# Getting targets information\n",
    "y.info()"
   ]
  },
  {
   "cell_type": "code",
   "execution_count": 15,
   "id": "efbc0d2b",
   "metadata": {},
   "outputs": [
    {
     "data": {
      "text/html": [
       "<div>\n",
       "<style scoped>\n",
       "    .dataframe tbody tr th:only-of-type {\n",
       "        vertical-align: middle;\n",
       "    }\n",
       "\n",
       "    .dataframe tbody tr th {\n",
       "        vertical-align: top;\n",
       "    }\n",
       "\n",
       "    .dataframe thead th {\n",
       "        text-align: right;\n",
       "    }\n",
       "</style>\n",
       "<table border=\"1\" class=\"dataframe\">\n",
       "  <thead>\n",
       "    <tr style=\"text-align: right;\">\n",
       "      <th></th>\n",
       "      <th>age</th>\n",
       "      <th>gender</th>\n",
       "      <th>education</th>\n",
       "      <th>country</th>\n",
       "      <th>ethnicity</th>\n",
       "      <th>nscore</th>\n",
       "      <th>escore</th>\n",
       "      <th>oscore</th>\n",
       "      <th>ascore</th>\n",
       "      <th>cscore</th>\n",
       "      <th>impuslive</th>\n",
       "      <th>ss</th>\n",
       "    </tr>\n",
       "  </thead>\n",
       "  <tbody>\n",
       "    <tr>\n",
       "      <th>0</th>\n",
       "      <td>0.49788</td>\n",
       "      <td>0.48246</td>\n",
       "      <td>-0.05921</td>\n",
       "      <td>0.96082</td>\n",
       "      <td>0.12600</td>\n",
       "      <td>0.31287</td>\n",
       "      <td>-0.57545</td>\n",
       "      <td>-0.58331</td>\n",
       "      <td>-0.91699</td>\n",
       "      <td>-0.00665</td>\n",
       "      <td>-0.21712</td>\n",
       "      <td>-1.18084</td>\n",
       "    </tr>\n",
       "    <tr>\n",
       "      <th>1</th>\n",
       "      <td>-0.07854</td>\n",
       "      <td>-0.48246</td>\n",
       "      <td>1.98437</td>\n",
       "      <td>0.96082</td>\n",
       "      <td>-0.31685</td>\n",
       "      <td>-0.67825</td>\n",
       "      <td>1.93886</td>\n",
       "      <td>1.43533</td>\n",
       "      <td>0.76096</td>\n",
       "      <td>-0.14277</td>\n",
       "      <td>-0.71126</td>\n",
       "      <td>-0.21575</td>\n",
       "    </tr>\n",
       "    <tr>\n",
       "      <th>2</th>\n",
       "      <td>0.49788</td>\n",
       "      <td>-0.48246</td>\n",
       "      <td>-0.05921</td>\n",
       "      <td>0.96082</td>\n",
       "      <td>-0.31685</td>\n",
       "      <td>-0.46725</td>\n",
       "      <td>0.80523</td>\n",
       "      <td>-0.84732</td>\n",
       "      <td>-1.62090</td>\n",
       "      <td>-1.01450</td>\n",
       "      <td>-1.37983</td>\n",
       "      <td>0.40148</td>\n",
       "    </tr>\n",
       "    <tr>\n",
       "      <th>3</th>\n",
       "      <td>-0.95197</td>\n",
       "      <td>0.48246</td>\n",
       "      <td>1.16365</td>\n",
       "      <td>0.96082</td>\n",
       "      <td>-0.31685</td>\n",
       "      <td>-0.14882</td>\n",
       "      <td>-0.80615</td>\n",
       "      <td>-0.01928</td>\n",
       "      <td>0.59042</td>\n",
       "      <td>0.58489</td>\n",
       "      <td>-1.37983</td>\n",
       "      <td>-1.18084</td>\n",
       "    </tr>\n",
       "    <tr>\n",
       "      <th>4</th>\n",
       "      <td>0.49788</td>\n",
       "      <td>0.48246</td>\n",
       "      <td>1.98437</td>\n",
       "      <td>0.96082</td>\n",
       "      <td>-0.31685</td>\n",
       "      <td>0.73545</td>\n",
       "      <td>-1.63340</td>\n",
       "      <td>-0.45174</td>\n",
       "      <td>-0.30172</td>\n",
       "      <td>1.30612</td>\n",
       "      <td>-0.21712</td>\n",
       "      <td>-0.21575</td>\n",
       "    </tr>\n",
       "  </tbody>\n",
       "</table>\n",
       "</div>"
      ],
      "text/plain": [
       "       age   gender  education  country  ethnicity   nscore   escore   oscore  \\\n",
       "0  0.49788  0.48246   -0.05921  0.96082    0.12600  0.31287 -0.57545 -0.58331   \n",
       "1 -0.07854 -0.48246    1.98437  0.96082   -0.31685 -0.67825  1.93886  1.43533   \n",
       "2  0.49788 -0.48246   -0.05921  0.96082   -0.31685 -0.46725  0.80523 -0.84732   \n",
       "3 -0.95197  0.48246    1.16365  0.96082   -0.31685 -0.14882 -0.80615 -0.01928   \n",
       "4  0.49788  0.48246    1.98437  0.96082   -0.31685  0.73545 -1.63340 -0.45174   \n",
       "\n",
       "    ascore   cscore  impuslive       ss  \n",
       "0 -0.91699 -0.00665   -0.21712 -1.18084  \n",
       "1  0.76096 -0.14277   -0.71126 -0.21575  \n",
       "2 -1.62090 -1.01450   -1.37983  0.40148  \n",
       "3  0.59042  0.58489   -1.37983 -1.18084  \n",
       "4 -0.30172  1.30612   -0.21712 -0.21575  "
      ]
     },
     "execution_count": 15,
     "metadata": {},
     "output_type": "execute_result"
    }
   ],
   "source": [
    "# getting a sample of features\n",
    "X.head()"
   ]
  },
  {
   "cell_type": "code",
   "execution_count": 16,
   "id": "08807ccc",
   "metadata": {},
   "outputs": [
    {
     "data": {
      "text/html": [
       "<div>\n",
       "<style scoped>\n",
       "    .dataframe tbody tr th:only-of-type {\n",
       "        vertical-align: middle;\n",
       "    }\n",
       "\n",
       "    .dataframe tbody tr th {\n",
       "        vertical-align: top;\n",
       "    }\n",
       "\n",
       "    .dataframe thead th {\n",
       "        text-align: right;\n",
       "    }\n",
       "</style>\n",
       "<table border=\"1\" class=\"dataframe\">\n",
       "  <thead>\n",
       "    <tr style=\"text-align: right;\">\n",
       "      <th></th>\n",
       "      <th>age</th>\n",
       "      <th>gender</th>\n",
       "      <th>education</th>\n",
       "      <th>country</th>\n",
       "      <th>ethnicity</th>\n",
       "      <th>nscore</th>\n",
       "      <th>escore</th>\n",
       "      <th>oscore</th>\n",
       "      <th>ascore</th>\n",
       "      <th>cscore</th>\n",
       "      <th>impuslive</th>\n",
       "      <th>ss</th>\n",
       "    </tr>\n",
       "  </thead>\n",
       "  <tbody>\n",
       "    <tr>\n",
       "      <th>count</th>\n",
       "      <td>1885.00000</td>\n",
       "      <td>1885.000000</td>\n",
       "      <td>1885.000000</td>\n",
       "      <td>1885.000000</td>\n",
       "      <td>1885.000000</td>\n",
       "      <td>1885.000000</td>\n",
       "      <td>1885.000000</td>\n",
       "      <td>1885.000000</td>\n",
       "      <td>1885.000000</td>\n",
       "      <td>1885.000000</td>\n",
       "      <td>1885.000000</td>\n",
       "      <td>1885.000000</td>\n",
       "    </tr>\n",
       "    <tr>\n",
       "      <th>mean</th>\n",
       "      <td>0.03461</td>\n",
       "      <td>-0.000256</td>\n",
       "      <td>-0.003806</td>\n",
       "      <td>0.355542</td>\n",
       "      <td>-0.309577</td>\n",
       "      <td>0.000047</td>\n",
       "      <td>-0.000163</td>\n",
       "      <td>-0.000534</td>\n",
       "      <td>-0.000245</td>\n",
       "      <td>-0.000386</td>\n",
       "      <td>0.007216</td>\n",
       "      <td>-0.003292</td>\n",
       "    </tr>\n",
       "    <tr>\n",
       "      <th>std</th>\n",
       "      <td>0.87836</td>\n",
       "      <td>0.482588</td>\n",
       "      <td>0.950078</td>\n",
       "      <td>0.700335</td>\n",
       "      <td>0.166226</td>\n",
       "      <td>0.998106</td>\n",
       "      <td>0.997448</td>\n",
       "      <td>0.996229</td>\n",
       "      <td>0.997440</td>\n",
       "      <td>0.997523</td>\n",
       "      <td>0.954435</td>\n",
       "      <td>0.963701</td>\n",
       "    </tr>\n",
       "    <tr>\n",
       "      <th>min</th>\n",
       "      <td>-0.95197</td>\n",
       "      <td>-0.482460</td>\n",
       "      <td>-2.435910</td>\n",
       "      <td>-0.570090</td>\n",
       "      <td>-1.107020</td>\n",
       "      <td>-3.464360</td>\n",
       "      <td>-3.273930</td>\n",
       "      <td>-3.273930</td>\n",
       "      <td>-3.464360</td>\n",
       "      <td>-3.464360</td>\n",
       "      <td>-2.555240</td>\n",
       "      <td>-2.078480</td>\n",
       "    </tr>\n",
       "    <tr>\n",
       "      <th>25%</th>\n",
       "      <td>-0.95197</td>\n",
       "      <td>-0.482460</td>\n",
       "      <td>-0.611130</td>\n",
       "      <td>-0.570090</td>\n",
       "      <td>-0.316850</td>\n",
       "      <td>-0.678250</td>\n",
       "      <td>-0.695090</td>\n",
       "      <td>-0.717270</td>\n",
       "      <td>-0.606330</td>\n",
       "      <td>-0.652530</td>\n",
       "      <td>-0.711260</td>\n",
       "      <td>-0.525930</td>\n",
       "    </tr>\n",
       "    <tr>\n",
       "      <th>50%</th>\n",
       "      <td>-0.07854</td>\n",
       "      <td>-0.482460</td>\n",
       "      <td>-0.059210</td>\n",
       "      <td>0.960820</td>\n",
       "      <td>-0.316850</td>\n",
       "      <td>0.042570</td>\n",
       "      <td>0.003320</td>\n",
       "      <td>-0.019280</td>\n",
       "      <td>-0.017290</td>\n",
       "      <td>-0.006650</td>\n",
       "      <td>-0.217120</td>\n",
       "      <td>0.079870</td>\n",
       "    </tr>\n",
       "    <tr>\n",
       "      <th>75%</th>\n",
       "      <td>0.49788</td>\n",
       "      <td>0.482460</td>\n",
       "      <td>0.454680</td>\n",
       "      <td>0.960820</td>\n",
       "      <td>-0.316850</td>\n",
       "      <td>0.629670</td>\n",
       "      <td>0.637790</td>\n",
       "      <td>0.723300</td>\n",
       "      <td>0.760960</td>\n",
       "      <td>0.584890</td>\n",
       "      <td>0.529750</td>\n",
       "      <td>0.765400</td>\n",
       "    </tr>\n",
       "    <tr>\n",
       "      <th>max</th>\n",
       "      <td>2.59171</td>\n",
       "      <td>0.482460</td>\n",
       "      <td>1.984370</td>\n",
       "      <td>0.960820</td>\n",
       "      <td>1.907250</td>\n",
       "      <td>3.273930</td>\n",
       "      <td>3.273930</td>\n",
       "      <td>2.901610</td>\n",
       "      <td>3.464360</td>\n",
       "      <td>3.464360</td>\n",
       "      <td>2.901610</td>\n",
       "      <td>1.921730</td>\n",
       "    </tr>\n",
       "  </tbody>\n",
       "</table>\n",
       "</div>"
      ],
      "text/plain": [
       "              age       gender    education      country    ethnicity  \\\n",
       "count  1885.00000  1885.000000  1885.000000  1885.000000  1885.000000   \n",
       "mean      0.03461    -0.000256    -0.003806     0.355542    -0.309577   \n",
       "std       0.87836     0.482588     0.950078     0.700335     0.166226   \n",
       "min      -0.95197    -0.482460    -2.435910    -0.570090    -1.107020   \n",
       "25%      -0.95197    -0.482460    -0.611130    -0.570090    -0.316850   \n",
       "50%      -0.07854    -0.482460    -0.059210     0.960820    -0.316850   \n",
       "75%       0.49788     0.482460     0.454680     0.960820    -0.316850   \n",
       "max       2.59171     0.482460     1.984370     0.960820     1.907250   \n",
       "\n",
       "            nscore       escore       oscore       ascore       cscore  \\\n",
       "count  1885.000000  1885.000000  1885.000000  1885.000000  1885.000000   \n",
       "mean      0.000047    -0.000163    -0.000534    -0.000245    -0.000386   \n",
       "std       0.998106     0.997448     0.996229     0.997440     0.997523   \n",
       "min      -3.464360    -3.273930    -3.273930    -3.464360    -3.464360   \n",
       "25%      -0.678250    -0.695090    -0.717270    -0.606330    -0.652530   \n",
       "50%       0.042570     0.003320    -0.019280    -0.017290    -0.006650   \n",
       "75%       0.629670     0.637790     0.723300     0.760960     0.584890   \n",
       "max       3.273930     3.273930     2.901610     3.464360     3.464360   \n",
       "\n",
       "         impuslive           ss  \n",
       "count  1885.000000  1885.000000  \n",
       "mean      0.007216    -0.003292  \n",
       "std       0.954435     0.963701  \n",
       "min      -2.555240    -2.078480  \n",
       "25%      -0.711260    -0.525930  \n",
       "50%      -0.217120     0.079870  \n",
       "75%       0.529750     0.765400  \n",
       "max       2.901610     1.921730  "
      ]
     },
     "execution_count": 16,
     "metadata": {},
     "output_type": "execute_result"
    }
   ],
   "source": [
    "X.describe() # description of features"
   ]
  },
  {
   "cell_type": "code",
   "execution_count": 17,
   "id": "08caa421",
   "metadata": {},
   "outputs": [
    {
     "data": {
      "text/html": [
       "<div>\n",
       "<style scoped>\n",
       "    .dataframe tbody tr th:only-of-type {\n",
       "        vertical-align: middle;\n",
       "    }\n",
       "\n",
       "    .dataframe tbody tr th {\n",
       "        vertical-align: top;\n",
       "    }\n",
       "\n",
       "    .dataframe thead th {\n",
       "        text-align: right;\n",
       "    }\n",
       "</style>\n",
       "<table border=\"1\" class=\"dataframe\">\n",
       "  <thead>\n",
       "    <tr style=\"text-align: right;\">\n",
       "      <th></th>\n",
       "      <th>alcohol</th>\n",
       "      <th>amphet</th>\n",
       "      <th>amyl</th>\n",
       "      <th>benzos</th>\n",
       "      <th>caff</th>\n",
       "      <th>cannabis</th>\n",
       "      <th>choc</th>\n",
       "      <th>coke</th>\n",
       "      <th>crack</th>\n",
       "      <th>ecstasy</th>\n",
       "      <th>heroin</th>\n",
       "      <th>ketamine</th>\n",
       "      <th>legalh</th>\n",
       "      <th>lsd</th>\n",
       "      <th>meth</th>\n",
       "      <th>mushrooms</th>\n",
       "      <th>nicotine</th>\n",
       "      <th>semer</th>\n",
       "      <th>vsa</th>\n",
       "    </tr>\n",
       "  </thead>\n",
       "  <tbody>\n",
       "    <tr>\n",
       "      <th>0</th>\n",
       "      <td>CL5</td>\n",
       "      <td>CL2</td>\n",
       "      <td>CL0</td>\n",
       "      <td>CL2</td>\n",
       "      <td>CL6</td>\n",
       "      <td>CL0</td>\n",
       "      <td>CL5</td>\n",
       "      <td>CL0</td>\n",
       "      <td>CL0</td>\n",
       "      <td>CL0</td>\n",
       "      <td>CL0</td>\n",
       "      <td>CL0</td>\n",
       "      <td>CL0</td>\n",
       "      <td>CL0</td>\n",
       "      <td>CL0</td>\n",
       "      <td>CL0</td>\n",
       "      <td>CL2</td>\n",
       "      <td>CL0</td>\n",
       "      <td>CL0</td>\n",
       "    </tr>\n",
       "    <tr>\n",
       "      <th>1</th>\n",
       "      <td>CL5</td>\n",
       "      <td>CL2</td>\n",
       "      <td>CL2</td>\n",
       "      <td>CL0</td>\n",
       "      <td>CL6</td>\n",
       "      <td>CL4</td>\n",
       "      <td>CL6</td>\n",
       "      <td>CL3</td>\n",
       "      <td>CL0</td>\n",
       "      <td>CL4</td>\n",
       "      <td>CL0</td>\n",
       "      <td>CL2</td>\n",
       "      <td>CL0</td>\n",
       "      <td>CL2</td>\n",
       "      <td>CL3</td>\n",
       "      <td>CL0</td>\n",
       "      <td>CL4</td>\n",
       "      <td>CL0</td>\n",
       "      <td>CL0</td>\n",
       "    </tr>\n",
       "    <tr>\n",
       "      <th>2</th>\n",
       "      <td>CL6</td>\n",
       "      <td>CL0</td>\n",
       "      <td>CL0</td>\n",
       "      <td>CL0</td>\n",
       "      <td>CL6</td>\n",
       "      <td>CL3</td>\n",
       "      <td>CL4</td>\n",
       "      <td>CL0</td>\n",
       "      <td>CL0</td>\n",
       "      <td>CL0</td>\n",
       "      <td>CL0</td>\n",
       "      <td>CL0</td>\n",
       "      <td>CL0</td>\n",
       "      <td>CL0</td>\n",
       "      <td>CL0</td>\n",
       "      <td>CL1</td>\n",
       "      <td>CL0</td>\n",
       "      <td>CL0</td>\n",
       "      <td>CL0</td>\n",
       "    </tr>\n",
       "    <tr>\n",
       "      <th>3</th>\n",
       "      <td>CL4</td>\n",
       "      <td>CL0</td>\n",
       "      <td>CL0</td>\n",
       "      <td>CL3</td>\n",
       "      <td>CL5</td>\n",
       "      <td>CL2</td>\n",
       "      <td>CL4</td>\n",
       "      <td>CL2</td>\n",
       "      <td>CL0</td>\n",
       "      <td>CL0</td>\n",
       "      <td>CL0</td>\n",
       "      <td>CL2</td>\n",
       "      <td>CL0</td>\n",
       "      <td>CL0</td>\n",
       "      <td>CL0</td>\n",
       "      <td>CL0</td>\n",
       "      <td>CL2</td>\n",
       "      <td>CL0</td>\n",
       "      <td>CL0</td>\n",
       "    </tr>\n",
       "    <tr>\n",
       "      <th>4</th>\n",
       "      <td>CL4</td>\n",
       "      <td>CL1</td>\n",
       "      <td>CL1</td>\n",
       "      <td>CL0</td>\n",
       "      <td>CL6</td>\n",
       "      <td>CL3</td>\n",
       "      <td>CL6</td>\n",
       "      <td>CL0</td>\n",
       "      <td>CL0</td>\n",
       "      <td>CL1</td>\n",
       "      <td>CL0</td>\n",
       "      <td>CL0</td>\n",
       "      <td>CL1</td>\n",
       "      <td>CL0</td>\n",
       "      <td>CL0</td>\n",
       "      <td>CL2</td>\n",
       "      <td>CL2</td>\n",
       "      <td>CL0</td>\n",
       "      <td>CL0</td>\n",
       "    </tr>\n",
       "  </tbody>\n",
       "</table>\n",
       "</div>"
      ],
      "text/plain": [
       "  alcohol amphet amyl benzos caff cannabis choc coke crack ecstasy heroin  \\\n",
       "0     CL5    CL2  CL0    CL2  CL6      CL0  CL5  CL0   CL0     CL0    CL0   \n",
       "1     CL5    CL2  CL2    CL0  CL6      CL4  CL6  CL3   CL0     CL4    CL0   \n",
       "2     CL6    CL0  CL0    CL0  CL6      CL3  CL4  CL0   CL0     CL0    CL0   \n",
       "3     CL4    CL0  CL0    CL3  CL5      CL2  CL4  CL2   CL0     CL0    CL0   \n",
       "4     CL4    CL1  CL1    CL0  CL6      CL3  CL6  CL0   CL0     CL1    CL0   \n",
       "\n",
       "  ketamine legalh  lsd meth mushrooms nicotine semer  vsa  \n",
       "0      CL0    CL0  CL0  CL0       CL0      CL2   CL0  CL0  \n",
       "1      CL2    CL0  CL2  CL3       CL0      CL4   CL0  CL0  \n",
       "2      CL0    CL0  CL0  CL0       CL1      CL0   CL0  CL0  \n",
       "3      CL2    CL0  CL0  CL0       CL0      CL2   CL0  CL0  \n",
       "4      CL0    CL1  CL0  CL0       CL2      CL2   CL0  CL0  "
      ]
     },
     "execution_count": 17,
     "metadata": {},
     "output_type": "execute_result"
    }
   ],
   "source": [
    "y.head()   # Sample of target data"
   ]
  },
  {
   "cell_type": "code",
   "execution_count": 18,
   "id": "f9739d65",
   "metadata": {
    "scrolled": true
   },
   "outputs": [
    {
     "data": {
      "text/html": [
       "<div>\n",
       "<style scoped>\n",
       "    .dataframe tbody tr th:only-of-type {\n",
       "        vertical-align: middle;\n",
       "    }\n",
       "\n",
       "    .dataframe tbody tr th {\n",
       "        vertical-align: top;\n",
       "    }\n",
       "\n",
       "    .dataframe thead th {\n",
       "        text-align: right;\n",
       "    }\n",
       "</style>\n",
       "<table border=\"1\" class=\"dataframe\">\n",
       "  <thead>\n",
       "    <tr style=\"text-align: right;\">\n",
       "      <th></th>\n",
       "      <th>alcohol</th>\n",
       "      <th>amphet</th>\n",
       "      <th>amyl</th>\n",
       "      <th>benzos</th>\n",
       "      <th>caff</th>\n",
       "      <th>cannabis</th>\n",
       "      <th>choc</th>\n",
       "      <th>coke</th>\n",
       "      <th>crack</th>\n",
       "      <th>ecstasy</th>\n",
       "      <th>heroin</th>\n",
       "      <th>ketamine</th>\n",
       "      <th>legalh</th>\n",
       "      <th>lsd</th>\n",
       "      <th>meth</th>\n",
       "      <th>mushrooms</th>\n",
       "      <th>nicotine</th>\n",
       "      <th>semer</th>\n",
       "      <th>vsa</th>\n",
       "    </tr>\n",
       "  </thead>\n",
       "  <tbody>\n",
       "    <tr>\n",
       "      <th>0</th>\n",
       "      <td>5</td>\n",
       "      <td>2</td>\n",
       "      <td>0</td>\n",
       "      <td>2</td>\n",
       "      <td>6</td>\n",
       "      <td>0</td>\n",
       "      <td>5</td>\n",
       "      <td>0</td>\n",
       "      <td>0</td>\n",
       "      <td>0</td>\n",
       "      <td>0</td>\n",
       "      <td>0</td>\n",
       "      <td>0</td>\n",
       "      <td>0</td>\n",
       "      <td>0</td>\n",
       "      <td>0</td>\n",
       "      <td>2</td>\n",
       "      <td>0</td>\n",
       "      <td>0</td>\n",
       "    </tr>\n",
       "    <tr>\n",
       "      <th>1</th>\n",
       "      <td>5</td>\n",
       "      <td>2</td>\n",
       "      <td>2</td>\n",
       "      <td>0</td>\n",
       "      <td>6</td>\n",
       "      <td>4</td>\n",
       "      <td>6</td>\n",
       "      <td>3</td>\n",
       "      <td>0</td>\n",
       "      <td>4</td>\n",
       "      <td>0</td>\n",
       "      <td>2</td>\n",
       "      <td>0</td>\n",
       "      <td>2</td>\n",
       "      <td>3</td>\n",
       "      <td>0</td>\n",
       "      <td>4</td>\n",
       "      <td>0</td>\n",
       "      <td>0</td>\n",
       "    </tr>\n",
       "    <tr>\n",
       "      <th>2</th>\n",
       "      <td>6</td>\n",
       "      <td>0</td>\n",
       "      <td>0</td>\n",
       "      <td>0</td>\n",
       "      <td>6</td>\n",
       "      <td>3</td>\n",
       "      <td>4</td>\n",
       "      <td>0</td>\n",
       "      <td>0</td>\n",
       "      <td>0</td>\n",
       "      <td>0</td>\n",
       "      <td>0</td>\n",
       "      <td>0</td>\n",
       "      <td>0</td>\n",
       "      <td>0</td>\n",
       "      <td>1</td>\n",
       "      <td>0</td>\n",
       "      <td>0</td>\n",
       "      <td>0</td>\n",
       "    </tr>\n",
       "    <tr>\n",
       "      <th>3</th>\n",
       "      <td>4</td>\n",
       "      <td>0</td>\n",
       "      <td>0</td>\n",
       "      <td>3</td>\n",
       "      <td>5</td>\n",
       "      <td>2</td>\n",
       "      <td>4</td>\n",
       "      <td>2</td>\n",
       "      <td>0</td>\n",
       "      <td>0</td>\n",
       "      <td>0</td>\n",
       "      <td>2</td>\n",
       "      <td>0</td>\n",
       "      <td>0</td>\n",
       "      <td>0</td>\n",
       "      <td>0</td>\n",
       "      <td>2</td>\n",
       "      <td>0</td>\n",
       "      <td>0</td>\n",
       "    </tr>\n",
       "    <tr>\n",
       "      <th>4</th>\n",
       "      <td>4</td>\n",
       "      <td>1</td>\n",
       "      <td>1</td>\n",
       "      <td>0</td>\n",
       "      <td>6</td>\n",
       "      <td>3</td>\n",
       "      <td>6</td>\n",
       "      <td>0</td>\n",
       "      <td>0</td>\n",
       "      <td>1</td>\n",
       "      <td>0</td>\n",
       "      <td>0</td>\n",
       "      <td>1</td>\n",
       "      <td>0</td>\n",
       "      <td>0</td>\n",
       "      <td>2</td>\n",
       "      <td>2</td>\n",
       "      <td>0</td>\n",
       "      <td>0</td>\n",
       "    </tr>\n",
       "  </tbody>\n",
       "</table>\n",
       "</div>"
      ],
      "text/plain": [
       "   alcohol  amphet  amyl  benzos  caff  cannabis  choc  coke  crack  ecstasy  \\\n",
       "0        5       2     0       2     6         0     5     0      0        0   \n",
       "1        5       2     2       0     6         4     6     3      0        4   \n",
       "2        6       0     0       0     6         3     4     0      0        0   \n",
       "3        4       0     0       3     5         2     4     2      0        0   \n",
       "4        4       1     1       0     6         3     6     0      0        1   \n",
       "\n",
       "   heroin  ketamine  legalh  lsd  meth  mushrooms  nicotine  semer  vsa  \n",
       "0       0         0       0    0     0          0         2      0    0  \n",
       "1       0         2       0    2     3          0         4      0    0  \n",
       "2       0         0       0    0     0          1         0      0    0  \n",
       "3       0         2       0    0     0          0         2      0    0  \n",
       "4       0         0       1    0     0          2         2      0    0  "
      ]
     },
     "execution_count": 18,
     "metadata": {},
     "output_type": "execute_result"
    }
   ],
   "source": [
    "# Since we usualy need target value as numeric instead of object type so we strip 'CL' from data points.\n",
    "# Following code will check each datapoint in the dataframe \n",
    "# if datapoint in a data is string following code will replace string  'CL' with empety string\n",
    "\n",
    "y_new= y.map(lambda x: x.replace('CL', '') if isinstance(x, str) else x)\n",
    "\n",
    "# Now we convert the resulting values of dataframe to numeric \n",
    "y_new = y_new.apply(pd.to_numeric)\n",
    "y_new.head()\n"
   ]
  },
  {
   "cell_type": "markdown",
   "id": "4f3c1d43",
   "metadata": {},
   "source": [
    "###  Task-2(a)\n",
    "- For task-2(a) I have chosen first two output features, 'alcohol' and 'amphet'. And I decided to use Random forest classifier for 'alcohol' multiclass and  KNN classifier for 'amphet' multiclass."
   ]
  },
  {
   "cell_type": "markdown",
   "id": "827b9965",
   "metadata": {},
   "source": [
    "#### Clssification for alcohol using random forest"
   ]
  },
  {
   "cell_type": "code",
   "execution_count": 19,
   "id": "ef842460",
   "metadata": {},
   "outputs": [
    {
     "name": "stdout",
     "output_type": "stream",
     "text": [
      "Random forest accuracy Score: 0.363395225464191\n"
     ]
    }
   ],
   "source": [
    "# Train test split for 'alcohol'\n",
    "X_train, X_test, y_train, y_test = train_test_split(X, y_new.alcohol, test_size=0.2, random_state=0) # train test split in 80/20\n",
    "\n",
    "#scaling not neccessary for tree based classifiers So we did not do it here.\n",
    "\n",
    "# Random Forest Classifier for classifying 'alcohol' class\n",
    "rc=RandomForestClassifier(n_estimators=100, random_state=0) # n_estimators=100 is the default value\n",
    "\n",
    "rc.fit(X_train,y_train)  # Training the random forest\n",
    "\n",
    "# Make predictions on the test set\n",
    "y_predicted = rc.predict(X_test)\n",
    "\n",
    "\n",
    "# Model accuracy score:\n",
    "accuracy_rc = accuracy_score(y_test, y_predicted)\n",
    "print('Random forest accuracy Score:', accuracy_rc)\n"
   ]
  },
  {
   "cell_type": "markdown",
   "id": "2600c085",
   "metadata": {},
   "source": [
    "#### Clssification for 'amphet drug using KNN classifier"
   ]
  },
  {
   "cell_type": "code",
   "execution_count": 20,
   "id": "69226ce0",
   "metadata": {},
   "outputs": [
    {
     "name": "stdout",
     "output_type": "stream",
     "text": [
      "accuracy score KNN classifier: 0.48010610079575594\n"
     ]
    }
   ],
   "source": [
    "## Classification for 'amphet' drug class\n",
    "\n",
    "# Train test split for 'amphet'\n",
    "X_train, X_test, y_train, y_test = train_test_split(X, y_new.amphet, test_size=0.2, random_state=0) # train test split in 80/20\n",
    "\n",
    "# Scaling the data\n",
    "scaler_X=StandardScaler()\n",
    "scaler_X.fit(X_train)\n",
    "X_train_scaled=scaler_X.transform(X_train)\n",
    "X_test_scaled= scaler_X.transform(X_test)\n",
    "\n",
    "# Initializing the KNN classifier using  default nearest neighbors as 5.\n",
    "model_knn= KNeighborsClassifier(n_neighbors=5)\n",
    "\n",
    "# Training the model on the training data\n",
    "model_knn.fit(X_train_scaled, y_train)\n",
    "\n",
    "# predicting y\n",
    "y_predicted = model_knn.predict(X_test)\n",
    "\n",
    "# Accuracy score on test data\n",
    "accuracy_knn=accuracy_score(y_test, y_predicted)\n",
    "\n",
    "print('accuracy score KNN classifier:',accuracy_knn)\n",
    "\n"
   ]
  },
  {
   "cell_type": "markdown",
   "id": "2ff62ec2",
   "metadata": {},
   "source": [
    "### Results of Task-2(a):\n",
    "- we selected two output features 'alcohol' and 'amphet'\n",
    "- we used 'Random Forest Classifier' for 'alcohol' and KNN classifier for 'amphet' drug\n",
    "- Accuracy score for 'alcohol' classification by random forest is 0.36, while the accuracy score for 'amphet' classification, using KNN is 0.48"
   ]
  },
  {
   "cell_type": "markdown",
   "id": "3dfd51cf",
   "metadata": {},
   "source": [
    "### Task-2(b):\n",
    "- Here I use the random Forest classifier for modelling 'alcohol' class, by manualy optimizing the accuracy using n_estimators (number of trees) from 50 to 1000."
   ]
  },
  {
   "cell_type": "code",
   "execution_count": 21,
   "id": "6c146a8a",
   "metadata": {},
   "outputs": [
    {
     "data": {
      "text/plain": [
       "array([  50,   75,  100,  125,  150,  175,  200,  225,  250,  275,  300,\n",
       "        325,  350,  375,  400,  425,  450,  475,  500,  525,  550,  575,\n",
       "        600,  625,  650,  675,  700,  725,  750,  775,  800,  825,  850,\n",
       "        875,  900,  925,  950,  975, 1000, 1025])"
      ]
     },
     "execution_count": 21,
     "metadata": {},
     "output_type": "execute_result"
    }
   ],
   "source": [
    "# Creating an array to be used as different values of number of trees in random forest model to optimize the model manually.\n",
    "n=np.arange(50,1050,25)\n",
    "n"
   ]
  },
  {
   "cell_type": "code",
   "execution_count": 22,
   "id": "1d1c99e1",
   "metadata": {},
   "outputs": [
    {
     "name": "stdout",
     "output_type": "stream",
     "text": [
      "Maximum accuracy score is 0.38992042440318303 for number of trees = 1000\n"
     ]
    }
   ],
   "source": [
    "# Train test split for alcohol\n",
    "X_train, X_test, y_train, y_test = train_test_split(X, y_new.alcohol, test_size=0.2, random_state=0) # train test split in 80/20\n",
    "# Scaling is not neccessary for random forest\n",
    "\n",
    "\n",
    "rc_accuracy=[]\n",
    "for item in n:\n",
    "\n",
    "# Random Forest Classifier for classifying 'alcohol' class\n",
    "    rc=RandomForestClassifier(n_estimators=item, random_state=0)\n",
    "    rc.fit(X_train,y_train)\n",
    "\n",
    "# Make predictions on the test set\n",
    "    y_predicted = rc.predict(X_test)\n",
    "\n",
    "# Step 5: Compute the accuracy score\n",
    "    accuracy_rc = accuracy_score(y_test, y_predicted)\n",
    "    #print(f'Accuracy Score for {item} number of trees is {accuracy_rc}')\n",
    "    rc_accuracy.append([item,accuracy_rc])\n",
    "    df_accuracy=pd.DataFrame(rc_accuracy, columns=['no_estimators','accuracy'])\n",
    "    \n",
    "print(f'Maximum accuracy score is {df_accuracy.accuracy.max()} for number of trees = {df_accuracy[df_accuracy.accuracy==df_accuracy.accuracy.max()].no_estimators.iloc[0]}')\n"
   ]
  },
  {
   "cell_type": "code",
   "execution_count": 23,
   "id": "906c417f",
   "metadata": {},
   "outputs": [
    {
     "data": {
      "image/png": "[encoded data removed]",
      "text/plain": [
       "<Figure size 640x480 with 1 Axes>"
      ]
     },
     "metadata": {},
     "output_type": "display_data"
    }
   ],
   "source": [
    "## Plotting the accuracy score as a function of parameter n_estimators\n",
    "plt.plot(df_accuracy.no_estimators,df_accuracy.accuracy)\n",
    "plt.xlabel(\"Number of Trees\")\n",
    "plt.ylabel(\"Accuracy Score\")\n",
    "plt.title(\"Plot of Accuracy vs number of trees for Random Forest\")\n",
    "plt.show()"
   ]
  },
  {
   "cell_type": "markdown",
   "id": "5411a7de",
   "metadata": {},
   "source": [
    "### Discusssion on Results of Task-2(b):\n",
    "- We used random forest classifier to classify 'alcohol' class and for optimisation we used different number of trees from 50 to 1025. And we found that accuracy score is highest (0.3899) for 1000 trees.\n",
    "- However, the accuracy score was 0.36 with just 100 trees so by using 1000 trees we did not get very significant growth in accuracy, though using 1000 trees need more time in processing."
   ]
  },
  {
   "cell_type": "markdown",
   "id": "4b25c269",
   "metadata": {},
   "source": [
    "### Task-2(c)\n",
    "- Here we have split the train test sample using same random state for all the drugs classification,  to have fair comparison among the accuracy scores\n",
    "- We used Kernel SVM classification here. This SVM uses non linear kernels so can detect non linear relationships too.\n",
    "- We are using here all outputs except 'alcohol' and 'amphet' as these were used in task-2(a)"
   ]
  },
  {
   "cell_type": "code",
   "execution_count": 24,
   "id": "08f26312",
   "metadata": {},
   "outputs": [
    {
     "data": {
      "text/plain": [
       "Index(['amyl', 'benzos', 'caff', 'cannabis', 'choc', 'coke', 'crack',\n",
       "       'ecstasy', 'heroin', 'ketamine', 'legalh', 'lsd', 'meth', 'mushrooms',\n",
       "       'nicotine', 'semer', 'vsa'],\n",
       "      dtype='object')"
      ]
     },
     "execution_count": 24,
     "metadata": {},
     "output_type": "execute_result"
    }
   ],
   "source": [
    "y_new.columns[2:] #all columns except 'alcohol' and 'amphet' , since we have used 'alcohol' and 'amphet' in task-2(a)."
   ]
  },
  {
   "cell_type": "code",
   "execution_count": 25,
   "id": "63092bbc",
   "metadata": {},
   "outputs": [
    {
     "name": "stdout",
     "output_type": "stream",
     "text": [
      "Kernel SVC model Accuracy score for drug/output_feature amyl is 0.7082228116710876\n",
      "Kernel SVC model Accuracy score for drug/output_feature benzos is 0.5729442970822282\n",
      "Kernel SVC model Accuracy score for drug/output_feature caff is 0.7745358090185677\n",
      "Kernel SVC model Accuracy score for drug/output_feature cannabis is 0.41644562334217505\n",
      "Kernel SVC model Accuracy score for drug/output_feature choc is 0.41909814323607425\n",
      "Kernel SVC model Accuracy score for drug/output_feature coke is 0.5994694960212201\n",
      "Kernel SVC model Accuracy score for drug/output_feature crack is 0.8779840848806366\n",
      "Kernel SVC model Accuracy score for drug/output_feature ecstasy is 0.5729442970822282\n",
      "Kernel SVC model Accuracy score for drug/output_feature heroin is 0.8620689655172413\n",
      "Kernel SVC model Accuracy score for drug/output_feature ketamine is 0.8010610079575596\n",
      "Kernel SVC model Accuracy score for drug/output_feature legalh is 0.649867374005305\n",
      "Kernel SVC model Accuracy score for drug/output_feature lsd is 0.6445623342175066\n",
      "Kernel SVC model Accuracy score for drug/output_feature meth is 0.7639257294429708\n",
      "Kernel SVC model Accuracy score for drug/output_feature mushrooms is 0.5915119363395226\n",
      "Kernel SVC model Accuracy score for drug/output_feature nicotine is 0.38992042440318303\n",
      "Kernel SVC model Accuracy score for drug/output_feature semer is 0.9920424403183024\n",
      "Kernel SVC model Accuracy score for drug/output_feature vsa is 0.7931034482758621\n"
     ]
    }
   ],
   "source": [
    "# Fitting Kernel SVM model and getting accuracy scores by using a loop for all drugs' names except 'alcohol' and 'amphet'.\n",
    "\n",
    "accuracy_score_ksvc=[] # for collecting the accuracy scores and drug's names\n",
    "\n",
    "for  item in y_new.columns[2:]:\n",
    "    \n",
    "    X_train, X_test, y_train, y_test = train_test_split(X, y_new[item], test_size=0.2, random_state=0) # train test split in 80/20\n",
    "\n",
    "    # Scaling the data\n",
    "    scaler_X=MinMaxScaler()\n",
    "    scaler_X.fit(X_train)\n",
    "    X_train_scaled=scaler_X.transform(X_train)\n",
    "    X_test_scaled= scaler_X.transform(X_test)\n",
    "    \n",
    "    # Initializing Kernel SVM model\n",
    "    model_svm = SVC(kernel='rbf', C=1, gamma='scale')  # C and gamma can be tuned\n",
    "\n",
    "    # Training the model on the training data\n",
    "    model_svm.fit(X_train_scaled, y_train)\n",
    "\n",
    "    # Making predictions on the test set\n",
    "    y_predicted = model_svm.predict(X_test_scaled)\n",
    "\n",
    "    # Accuracy of the model\n",
    "    accuracy_ksvc = accuracy_score(y_test, y_predicted)\n",
    "    accuracy_score_ksvc.append([item,accuracy_ksvc])\n",
    "    \n",
    "    print(f'Kernel SVC model Accuracy score for drug/output_feature {item} is {accuracy_ksvc}')\n",
    "    \n"
   ]
  },
  {
   "cell_type": "markdown",
   "id": "a19ab93b",
   "metadata": {},
   "source": [
    "### Discussion on Results of task-2(c)\n",
    "- By observing the accuracy results we noted that minimum accuracy (0.3899) is for 'nicotine' and maximum accuracy (0.99) is for 'semer' drugs\n",
    "- four least accuracy scores are for drugs 'nicotine','choc','cannabis' and 'benzos'"
   ]
  },
  {
   "cell_type": "markdown",
   "id": "5040e423",
   "metadata": {},
   "source": [
    "### Task-2(d)\n",
    "- For this task, we selected the drugs 'cannabis','choc' and 'nicotine' as for these drugs the model accuracy score was very low in last task. So we wanted to see if there is some improvement in accuracy score after binary classification.\n",
    "- In the data documentation on the website, seven classes [0,1,2,3,4,5,6] are  \"Never Used\", \"Used over a Decade Ago\", \"Used in Last Decade\", \"Used in Last Year\", \"Used in Last Month\", \"Used in Last Week\", and \"Used in Last Day\" respectively.\n",
    "- We have been given three kind of binary classifications i.e.\n",
    "     - (class 0) the variables \"Never Used\" and \"Used in Last Decade\" and (class 1) the remaining variables.\n",
    "     - (class 0) the variables \"Never Used\", \"Used in Last Decade\" and \"Used in Last Year\" and (class 1) the remaining variables.\n",
    "    - (class 0) the variables \"Never Used\", \"Used in Last Decade\", \"Used in Last Year\" and \"Used in Last Month\" and (class 1) the remaining variables.\n",
    "- We will take each binary classification one by one and classify all three drugs on choosen binary class. and then fit binary classification models.\n",
    "- Hence for each drug we have three models, one for each kind of binary classification. i.e., overall we would have 9 models and corresponding accuracy scores."
   ]
  },
  {
   "cell_type": "markdown",
   "id": "2091f6f9",
   "metadata": {},
   "source": [
    "#### First kind of Binary Classification\n",
    "- Rule of making this kind of binary class is following:\n",
    "    - (class 0) the variables \"Never Used\" and \"Used in Last Decade\" and (class 1) the remaining variables.\n",
    "    - That means in terms of y_new data,  class-0 is clubbing the 0 and 2 classes and remaining clases are clubbed in Class-1"
   ]
  },
  {
   "cell_type": "code",
   "execution_count": 26,
   "id": "469319ad",
   "metadata": {},
   "outputs": [
    {
     "data": {
      "text/html": [
       "<div>\n",
       "<style scoped>\n",
       "    .dataframe tbody tr th:only-of-type {\n",
       "        vertical-align: middle;\n",
       "    }\n",
       "\n",
       "    .dataframe tbody tr th {\n",
       "        vertical-align: top;\n",
       "    }\n",
       "\n",
       "    .dataframe thead th {\n",
       "        text-align: right;\n",
       "    }\n",
       "</style>\n",
       "<table border=\"1\" class=\"dataframe\">\n",
       "  <thead>\n",
       "    <tr style=\"text-align: right;\">\n",
       "      <th></th>\n",
       "      <th>cannabis</th>\n",
       "      <th>choc</th>\n",
       "      <th>nicotine</th>\n",
       "    </tr>\n",
       "  </thead>\n",
       "  <tbody>\n",
       "    <tr>\n",
       "      <th>0</th>\n",
       "      <td>0</td>\n",
       "      <td>1</td>\n",
       "      <td>0</td>\n",
       "    </tr>\n",
       "    <tr>\n",
       "      <th>1</th>\n",
       "      <td>1</td>\n",
       "      <td>1</td>\n",
       "      <td>1</td>\n",
       "    </tr>\n",
       "    <tr>\n",
       "      <th>2</th>\n",
       "      <td>1</td>\n",
       "      <td>1</td>\n",
       "      <td>0</td>\n",
       "    </tr>\n",
       "    <tr>\n",
       "      <th>3</th>\n",
       "      <td>0</td>\n",
       "      <td>1</td>\n",
       "      <td>0</td>\n",
       "    </tr>\n",
       "    <tr>\n",
       "      <th>4</th>\n",
       "      <td>1</td>\n",
       "      <td>1</td>\n",
       "      <td>0</td>\n",
       "    </tr>\n",
       "  </tbody>\n",
       "</table>\n",
       "</div>"
      ],
      "text/plain": [
       "   cannabis  choc  nicotine\n",
       "0         0     1         0\n",
       "1         1     1         1\n",
       "2         1     1         0\n",
       "3         0     1         0\n",
       "4         1     1         0"
      ]
     },
     "execution_count": 26,
     "metadata": {},
     "output_type": "execute_result"
    }
   ],
   "source": [
    "# Making new dataframe for storing binary classes (According to 1'st method) for three chosen drugs\n",
    "\n",
    "#Initializing a new data frame to have the binary classes for chosen three  drugs\n",
    "y_3drugs_binary1=pd.DataFrame()\n",
    "\n",
    "# Creating binary classes as columns\n",
    "y_3drugs_binary1['cannabis']= np.where((y_new['cannabis']==0) | (y_new['cannabis']==2) ,0,1)\n",
    "y_3drugs_binary1['choc']=     np.where((y_new['choc']==0) | (y_new['choc']==2) ,0,1)\n",
    "y_3drugs_binary1['nicotine']= np.where((y_new['nicotine']==0) | (y_new['nicotine']==2) ,0,1)\n",
    "\n",
    "y_3drugs_binary1.head()"
   ]
  },
  {
   "cell_type": "code",
   "execution_count": 27,
   "id": "a0a2638a",
   "metadata": {},
   "outputs": [
    {
     "name": "stdout",
     "output_type": "stream",
     "text": [
      "Accuracy for drug cannabis: 0.8064\n",
      "Accuracy for drug choc: 0.9814\n",
      "Accuracy for drug nicotine: 0.7321\n",
      "\n",
      "________________________________________________________________\n",
      "       drug  accuracy_binary1\n",
      "0  cannabis          0.806366\n",
      "1      choc          0.981432\n",
      "2  nicotine          0.732095\n"
     ]
    }
   ],
   "source": [
    "# Using logistic regression for two class classifications \n",
    "# we use a loop for chosen drugs.\n",
    "\n",
    "Accuracy_binary1=[]\n",
    "for item in y_3drugs_binary1.columns:\n",
    "    \n",
    "    # Train test split\n",
    "    X_train, X_test, y_train, y_test = train_test_split(X, y_3drugs_binary1[item], test_size=0.2, random_state=0)\n",
    "    \n",
    "    #Scaling\n",
    "    scaler_X=MinMaxScaler()\n",
    "    scaler_X.fit(X_train)\n",
    "    X_train_scaled=scaler_X.transform(X_train)\n",
    "    X_test_scaled= scaler_X.transform(X_test)\n",
    "    \n",
    "    # model initialisation\n",
    "    model_log = LogisticRegression()\n",
    "    \n",
    "    #Training the model\n",
    "    model_log.fit(X_train_scaled,y_train)\n",
    "    \n",
    "    # Predicted y\n",
    "    y_predicted=model_log.predict(X_test_scaled)\n",
    "    \n",
    "    # Accuracy score\n",
    "    accuracy_log = accuracy_score(y_test, y_predicted)\n",
    "    Accuracy_binary1.append([item,accuracy_log])\n",
    "    print(f\"Accuracy for drug {item}: {accuracy_log:.4f}\")\n",
    "\n",
    "accuracy_binary1=pd.DataFrame(Accuracy_binary1,columns=['drug','accuracy_binary1'])\n",
    "print('\\n________________________________________________________________')\n",
    "print(accuracy_binary1)"
   ]
  },
  {
   "cell_type": "markdown",
   "id": "d1a5c751",
   "metadata": {},
   "source": [
    "#### Second kind of Binary Classification\n",
    "- Rule of making this kind of binary class is following:\n",
    "    - (class 0) the variables \"Never Used\", \"Used in Last Decade\" and \"Used in Last Year\" and (class 1) the remaining variables.\n",
    "    - That means in terms of y_new data class-0 is clubbing the 0, 2 and 3 classes and remaining clases are clubbed in Class-1"
   ]
  },
  {
   "cell_type": "code",
   "execution_count": 28,
   "id": "c1792132",
   "metadata": {},
   "outputs": [
    {
     "data": {
      "text/html": [
       "<div>\n",
       "<style scoped>\n",
       "    .dataframe tbody tr th:only-of-type {\n",
       "        vertical-align: middle;\n",
       "    }\n",
       "\n",
       "    .dataframe tbody tr th {\n",
       "        vertical-align: top;\n",
       "    }\n",
       "\n",
       "    .dataframe thead th {\n",
       "        text-align: right;\n",
       "    }\n",
       "</style>\n",
       "<table border=\"1\" class=\"dataframe\">\n",
       "  <thead>\n",
       "    <tr style=\"text-align: right;\">\n",
       "      <th></th>\n",
       "      <th>cannabis</th>\n",
       "      <th>choc</th>\n",
       "      <th>nicotine</th>\n",
       "    </tr>\n",
       "  </thead>\n",
       "  <tbody>\n",
       "    <tr>\n",
       "      <th>0</th>\n",
       "      <td>0</td>\n",
       "      <td>1</td>\n",
       "      <td>0</td>\n",
       "    </tr>\n",
       "    <tr>\n",
       "      <th>1</th>\n",
       "      <td>1</td>\n",
       "      <td>1</td>\n",
       "      <td>1</td>\n",
       "    </tr>\n",
       "    <tr>\n",
       "      <th>2</th>\n",
       "      <td>0</td>\n",
       "      <td>1</td>\n",
       "      <td>0</td>\n",
       "    </tr>\n",
       "    <tr>\n",
       "      <th>3</th>\n",
       "      <td>0</td>\n",
       "      <td>1</td>\n",
       "      <td>0</td>\n",
       "    </tr>\n",
       "    <tr>\n",
       "      <th>4</th>\n",
       "      <td>0</td>\n",
       "      <td>1</td>\n",
       "      <td>0</td>\n",
       "    </tr>\n",
       "  </tbody>\n",
       "</table>\n",
       "</div>"
      ],
      "text/plain": [
       "   cannabis  choc  nicotine\n",
       "0         0     1         0\n",
       "1         1     1         1\n",
       "2         0     1         0\n",
       "3         0     1         0\n",
       "4         0     1         0"
      ]
     },
     "execution_count": 28,
     "metadata": {},
     "output_type": "execute_result"
    }
   ],
   "source": [
    "# Making new dataframe for storing binary classes (According to 2'nd method) for three chosen drugs\n",
    "\n",
    "#Initializing a new data frame to have the binary classes for chosen three  drugs\n",
    "y_3drugs_binary2=pd.DataFrame()\n",
    "\n",
    "# Creating binary classes as columns\n",
    "y_3drugs_binary2['cannabis']= np.where(y_new['cannabis'].isin([0,2,3]) ,0,1)\n",
    "y_3drugs_binary2['choc']=     np.where(y_new['choc'].isin([0,2,3]) ,0,1)\n",
    "y_3drugs_binary2['nicotine']= np.where(y_new['nicotine'].isin([0,2,3]) ,0,1)\n",
    "\n",
    "y_3drugs_binary2.head()"
   ]
  },
  {
   "cell_type": "code",
   "execution_count": 29,
   "id": "36d78505",
   "metadata": {},
   "outputs": [
    {
     "name": "stdout",
     "output_type": "stream",
     "text": [
      "Accuracy for drug cannabis: 0.7321\n",
      "Accuracy for drug choc: 0.9523\n",
      "Accuracy for drug nicotine: 0.6419\n",
      "\n",
      "________________________________________________________________\n",
      "       drug  accuracy_binary2\n",
      "0  cannabis          0.732095\n",
      "1      choc          0.952255\n",
      "2  nicotine          0.641910\n"
     ]
    }
   ],
   "source": [
    "## Using logistic regression for binary classification\n",
    "\n",
    "Accuracy_binary2=[]  # for storing drug name and accuracy scores\n",
    "\n",
    "for item in y_3drugs_binary2.columns:    # loop for chosen drugs\n",
    "    \n",
    "    # Train test split\n",
    "    X_train, X_test, y_train, y_test = train_test_split(X, y_3drugs_binary2[item], test_size=0.2, random_state=0)\n",
    "    \n",
    "    #Scaling\n",
    "    scaler_X=MinMaxScaler()\n",
    "    scaler_X.fit(X_train)\n",
    "    X_train_scaled=scaler_X.transform(X_train)\n",
    "    X_test_scaled= scaler_X.transform(X_test)\n",
    "    \n",
    "    # model initialisation\n",
    "    model_log = LogisticRegression()\n",
    "    \n",
    "    #Training the model\n",
    "    model_log.fit(X_train_scaled,y_train)\n",
    "    \n",
    "    # Predicted y\n",
    "    y_predicted=model_log.predict(X_test_scaled)\n",
    "    \n",
    "    # Accuracy score\n",
    "    accuracy_log = accuracy_score(y_test, y_predicted)\n",
    "    Accuracy_binary2.append([item,accuracy_log])\n",
    "    print(f\"Accuracy for drug {item}: {accuracy_log:.4f}\")\n",
    "    \n",
    "accuracy_binary2=pd.DataFrame(Accuracy_binary2,columns=['drug','accuracy_binary2'])\n",
    "print('\\n________________________________________________________________')\n",
    "print(accuracy_binary2)\n"
   ]
  },
  {
   "cell_type": "markdown",
   "id": "77aa0a0c",
   "metadata": {},
   "source": [
    "#### Third kind of Binary Classification\n",
    "- Rule of making this kind of binary class is following:\n",
    "    - (class 0) the variables \"Never Used\", \"Used in Last Decade\", \"Used in Last Year\" and \"Used in Last Month\" and (class 1) the remaining variables.\n",
    "    - That means in terms of y_new data class-0 is clubbing the 0, 2, 3 and 4 classes and remaining clases are clubbed in Class-1"
   ]
  },
  {
   "cell_type": "code",
   "execution_count": 30,
   "id": "5227be95",
   "metadata": {},
   "outputs": [
    {
     "data": {
      "text/html": [
       "<div>\n",
       "<style scoped>\n",
       "    .dataframe tbody tr th:only-of-type {\n",
       "        vertical-align: middle;\n",
       "    }\n",
       "\n",
       "    .dataframe tbody tr th {\n",
       "        vertical-align: top;\n",
       "    }\n",
       "\n",
       "    .dataframe thead th {\n",
       "        text-align: right;\n",
       "    }\n",
       "</style>\n",
       "<table border=\"1\" class=\"dataframe\">\n",
       "  <thead>\n",
       "    <tr style=\"text-align: right;\">\n",
       "      <th></th>\n",
       "      <th>cannabis</th>\n",
       "      <th>choc</th>\n",
       "      <th>nicotine</th>\n",
       "    </tr>\n",
       "  </thead>\n",
       "  <tbody>\n",
       "    <tr>\n",
       "      <th>0</th>\n",
       "      <td>0</td>\n",
       "      <td>1</td>\n",
       "      <td>0</td>\n",
       "    </tr>\n",
       "    <tr>\n",
       "      <th>1</th>\n",
       "      <td>0</td>\n",
       "      <td>1</td>\n",
       "      <td>0</td>\n",
       "    </tr>\n",
       "    <tr>\n",
       "      <th>2</th>\n",
       "      <td>0</td>\n",
       "      <td>0</td>\n",
       "      <td>0</td>\n",
       "    </tr>\n",
       "    <tr>\n",
       "      <th>3</th>\n",
       "      <td>0</td>\n",
       "      <td>0</td>\n",
       "      <td>0</td>\n",
       "    </tr>\n",
       "    <tr>\n",
       "      <th>4</th>\n",
       "      <td>0</td>\n",
       "      <td>1</td>\n",
       "      <td>0</td>\n",
       "    </tr>\n",
       "  </tbody>\n",
       "</table>\n",
       "</div>"
      ],
      "text/plain": [
       "   cannabis  choc  nicotine\n",
       "0         0     1         0\n",
       "1         0     1         0\n",
       "2         0     0         0\n",
       "3         0     0         0\n",
       "4         0     1         0"
      ]
     },
     "execution_count": 30,
     "metadata": {},
     "output_type": "execute_result"
    }
   ],
   "source": [
    "# Making new dataframe for storing binary classes (According to 3'rd method) for three chosen drugs\n",
    "\n",
    "#Initializing a new data frame to have the binary classes for chosen three  drugs\n",
    "y_3drugs_binary3=pd.DataFrame()\n",
    "\n",
    "# Creating binary classes as columns\n",
    "y_3drugs_binary3['cannabis']= np.where(y_new['cannabis'].isin([0,2,3,4]) ,0,1)\n",
    "y_3drugs_binary3['choc']=     np.where(y_new['choc'].isin([0,2,3,4]) ,0,1)\n",
    "y_3drugs_binary3['nicotine']= np.where(y_new['nicotine'].isin([0,2,3,4]) ,0,1)\n",
    "\n",
    "y_3drugs_binary3.head()"
   ]
  },
  {
   "cell_type": "code",
   "execution_count": 31,
   "id": "4d318b40",
   "metadata": {},
   "outputs": [
    {
     "name": "stdout",
     "output_type": "stream",
     "text": [
      "Accuracy for drug cannabis: 0.6870\n",
      "Accuracy for drug choc: 0.7666\n",
      "Accuracy for drug nicotine: 0.6127\n",
      "________________________________________________________________\n",
      "       drug  accuracy_binary3\n",
      "0  cannabis          0.687003\n",
      "1      choc          0.766578\n",
      "2  nicotine          0.612732\n"
     ]
    }
   ],
   "source": [
    "Accuracy_binary3=[]\n",
    "\n",
    "for item in y_3drugs_binary3.columns:\n",
    "    \n",
    "    # Train test split\n",
    "    X_train, X_test, y_train, y_test = train_test_split(X, y_3drugs_binary3[item], test_size=0.2, random_state=0)\n",
    "    \n",
    "    #Scaling\n",
    "    scaler_X=MinMaxScaler()\n",
    "    scaler_X.fit(X_train)\n",
    "    X_train_scaled=scaler_X.transform(X_train)\n",
    "    X_test_scaled= scaler_X.transform(X_test)\n",
    "    \n",
    "    # model initialisation\n",
    "    model_log = LogisticRegression()\n",
    "    \n",
    "    #Training the model\n",
    "    model_log.fit(X_train_scaled,y_train)\n",
    "    \n",
    "    # Predicted y\n",
    "    y_predicted=model_log.predict(X_test_scaled)\n",
    "    \n",
    "    # Accuracy score\n",
    "    accuracy_log = accuracy_score(y_test, y_predicted)\n",
    "    Accuracy_binary3.append([item,accuracy_log])\n",
    "    print(f\"Accuracy for drug {item}: {accuracy_log:.4f}\")\n",
    "    \n",
    "accuracy_binary3=pd.DataFrame(Accuracy_binary3,columns=['drug','accuracy_binary3'])\n",
    "print('________________________________________________________________')\n",
    "print(accuracy_binary3)\n"
   ]
  },
  {
   "cell_type": "markdown",
   "id": "9d85425c",
   "metadata": {},
   "source": [
    "#### Clubbing all the results of Task-2(d)"
   ]
  },
  {
   "cell_type": "code",
   "execution_count": 32,
   "id": "b227cdf7",
   "metadata": {},
   "outputs": [
    {
     "name": "stdout",
     "output_type": "stream",
     "text": [
      "          accuracy_binary1  accuracy_binary2  accuracy_binary3\n",
      "drug                                                          \n",
      "cannabis          0.806366          0.732095          0.687003\n",
      "choc              0.981432          0.952255          0.766578\n",
      "nicotine          0.732095          0.641910          0.612732\n"
     ]
    }
   ],
   "source": [
    "## Merging accuracy scores of all three kind of binary classification\n",
    "accuracy_compare=pd.merge(accuracy_binary1,accuracy_binary2)\n",
    "accuracy_compare= pd.merge(accuracy_compare,accuracy_binary3)\n",
    "accuracy_compare.set_index('drug',inplace=True)\n",
    "print(accuracy_compare)"
   ]
  },
  {
   "cell_type": "markdown",
   "id": "df90794b",
   "metadata": {},
   "source": [
    "### Comments on answers of 2(d):\n",
    "- binary classes have better accuracy scores. We selected drugs ('cannabis','choc' and 'nicotine') for binary classification which had less than 50% accuracy score in multiclass classification in task-2(c).\n",
    "- After binary classification, accuracy score of these three drugs' classification ranges between 61% to 98% in different setups.\n",
    "- Best Setup: binary classification using first method i.e., 'class 0 (the variables \"Never Used\" and \"Used in Last Decade\") and class 1 (the remaining variables) was the best across all the three chosen drugs (cannebis, choc, nicotine) as this setup has best accuracy scores in all three drugs classification."
   ]
  },
  {
   "cell_type": "markdown",
   "id": "335939aa",
   "metadata": {},
   "source": [
    "## Task 3 (5 points): Data normalization\n",
    "\n",
    "##### Dataset: Linnerud \n",
    "* Number of records: 20\n",
    "* Number of features: 3 + 3 (target/output features)\n",
    "* Repository URL: https://scikit-learn.org/stable/modules/generated/sklearn.datasets.load_linnerud.html \n",
    "\n",
    "##### Problems\n",
    "__a.__ Look at features of Linnerud dataset, explore them and describe their characteristics. \\\n",
    "__b.__ Normalize these features using an appropriate method. Plot the probability density function of each feature with original and normalized data side-by-side."
   ]
  },
  {
   "cell_type": "markdown",
   "id": "49a1dab7",
   "metadata": {},
   "source": [
    "# Answer_Task-3:\n",
    "### Data description:\n",
    "- data is from 20 middle aged men in a fitness club.\n",
    "- Features are the measurement of three excersizes Chins, Situps and Jumps which the men do in the fitness club\n",
    "- Target variables are their Weight, Waist and Pulse observations."
   ]
  },
  {
   "cell_type": "code",
   "execution_count": 33,
   "id": "29583d65",
   "metadata": {},
   "outputs": [
    {
     "name": "stdout",
     "output_type": "stream",
     "text": [
      "Dimensions of features X: (20, 3)\n",
      "Dimensions of target y: (20, 3)\n"
     ]
    }
   ],
   "source": [
    "##Loading the data and making features X and target y \n",
    "linnerud = load_linnerud()\n",
    "X=linnerud.data\n",
    "y=linnerud.target\n",
    "print('Dimensions of features X:',X.shape)\n",
    "print('Dimensions of target y:',y.shape)\n",
    "\n",
    "## Both X and y have 20 rows and 3 columns"
   ]
  },
  {
   "cell_type": "code",
   "execution_count": 34,
   "id": "c76ec6aa",
   "metadata": {},
   "outputs": [
    {
     "name": "stdout",
     "output_type": "stream",
     "text": [
      "float64\n",
      "float64\n"
     ]
    }
   ],
   "source": [
    "# Checking data type\n",
    "print(X.dtype)\n",
    "print(y.dtype)"
   ]
  },
  {
   "cell_type": "code",
   "execution_count": 35,
   "id": "85a7139e",
   "metadata": {},
   "outputs": [
    {
     "name": "stdout",
     "output_type": "stream",
     "text": [
      "missing value count in features: 0\n",
      "\n",
      "missing value count in targets: 0\n"
     ]
    }
   ],
   "source": [
    "## Checking if there are missing values\n",
    "\n",
    "missing_feature_values=np.isnan(X).sum()\n",
    "missing_targets_values=np.isnan(y).sum()\n",
    "print('missing value count in features:',missing_feature_values)\n",
    "print('\\nmissing value count in targets:',missing_targets_values)\n",
    "\n",
    "# No missing values"
   ]
  },
  {
   "cell_type": "code",
   "execution_count": 36,
   "id": "6bcf0a11",
   "metadata": {},
   "outputs": [
    {
     "name": "stdout",
     "output_type": "stream",
     "text": [
      "   chins  situps  jumps\n",
      "0    5.0   162.0   60.0\n",
      "1    2.0   110.0   60.0\n",
      "2   12.0   101.0  101.0\n",
      "3   12.0   105.0   37.0\n",
      "4   13.0   155.0   58.0\n",
      "________________________________________________\n",
      "   weight  waist  pulse\n",
      "0   191.0   36.0   50.0\n",
      "1   189.0   37.0   52.0\n",
      "2   193.0   38.0   58.0\n",
      "3   162.0   35.0   62.0\n",
      "4   189.0   35.0   46.0\n"
     ]
    }
   ],
   "source": [
    "# Converting features array X into dataframe to describe them more in detail\n",
    "linnerud_features=pd.DataFrame(X,columns=['chins','situps','jumps'])\n",
    "linnerud_targets=pd.DataFrame(y,columns=['weight','waist','pulse'])\n",
    "print(linnerud_features.head())\n",
    "print('________________________________________________')\n",
    "print(linnerud_targets.head())"
   ]
  },
  {
   "cell_type": "code",
   "execution_count": 37,
   "id": "72761841",
   "metadata": {},
   "outputs": [
    {
     "data": {
      "text/html": [
       "<div>\n",
       "<style scoped>\n",
       "    .dataframe tbody tr th:only-of-type {\n",
       "        vertical-align: middle;\n",
       "    }\n",
       "\n",
       "    .dataframe tbody tr th {\n",
       "        vertical-align: top;\n",
       "    }\n",
       "\n",
       "    .dataframe thead th {\n",
       "        text-align: right;\n",
       "    }\n",
       "</style>\n",
       "<table border=\"1\" class=\"dataframe\">\n",
       "  <thead>\n",
       "    <tr style=\"text-align: right;\">\n",
       "      <th></th>\n",
       "      <th>chins</th>\n",
       "      <th>situps</th>\n",
       "      <th>jumps</th>\n",
       "    </tr>\n",
       "  </thead>\n",
       "  <tbody>\n",
       "    <tr>\n",
       "      <th>count</th>\n",
       "      <td>20.000000</td>\n",
       "      <td>20.000000</td>\n",
       "      <td>20.00000</td>\n",
       "    </tr>\n",
       "    <tr>\n",
       "      <th>mean</th>\n",
       "      <td>9.450000</td>\n",
       "      <td>145.550000</td>\n",
       "      <td>70.30000</td>\n",
       "    </tr>\n",
       "    <tr>\n",
       "      <th>std</th>\n",
       "      <td>5.286278</td>\n",
       "      <td>62.566575</td>\n",
       "      <td>51.27747</td>\n",
       "    </tr>\n",
       "    <tr>\n",
       "      <th>min</th>\n",
       "      <td>1.000000</td>\n",
       "      <td>50.000000</td>\n",
       "      <td>25.00000</td>\n",
       "    </tr>\n",
       "    <tr>\n",
       "      <th>25%</th>\n",
       "      <td>4.750000</td>\n",
       "      <td>101.000000</td>\n",
       "      <td>39.50000</td>\n",
       "    </tr>\n",
       "    <tr>\n",
       "      <th>50%</th>\n",
       "      <td>11.500000</td>\n",
       "      <td>122.500000</td>\n",
       "      <td>54.00000</td>\n",
       "    </tr>\n",
       "    <tr>\n",
       "      <th>75%</th>\n",
       "      <td>13.250000</td>\n",
       "      <td>210.000000</td>\n",
       "      <td>85.25000</td>\n",
       "    </tr>\n",
       "    <tr>\n",
       "      <th>max</th>\n",
       "      <td>17.000000</td>\n",
       "      <td>251.000000</td>\n",
       "      <td>250.00000</td>\n",
       "    </tr>\n",
       "  </tbody>\n",
       "</table>\n",
       "</div>"
      ],
      "text/plain": [
       "           chins      situps      jumps\n",
       "count  20.000000   20.000000   20.00000\n",
       "mean    9.450000  145.550000   70.30000\n",
       "std     5.286278   62.566575   51.27747\n",
       "min     1.000000   50.000000   25.00000\n",
       "25%     4.750000  101.000000   39.50000\n",
       "50%    11.500000  122.500000   54.00000\n",
       "75%    13.250000  210.000000   85.25000\n",
       "max    17.000000  251.000000  250.00000"
      ]
     },
     "execution_count": 37,
     "metadata": {},
     "output_type": "execute_result"
    }
   ],
   "source": [
    "# Major characterstics of features X\n",
    "linnerud_features.describe()"
   ]
  },
  {
   "cell_type": "code",
   "execution_count": 38,
   "id": "cfbe2604",
   "metadata": {},
   "outputs": [
    {
     "data": {
      "text/plain": [
       "array([[<Axes: title={'center': 'chins'}>,\n",
       "        <Axes: title={'center': 'situps'}>],\n",
       "       [<Axes: title={'center': 'jumps'}>, <Axes: >]], dtype=object)"
      ]
     },
     "execution_count": 38,
     "metadata": {},
     "output_type": "execute_result"
    },
    {
     "data": {
      "image/png": "[encoded data removed]",
      "text/plain": [
       "<Figure size 600x400 with 4 Axes>"
      ]
     },
     "metadata": {},
     "output_type": "display_data"
    }
   ],
   "source": [
    "## Histograms of X features to get an idea about shape of data distributions\n",
    "linnerud_features.hist(figsize=(6,4)) "
   ]
  },
  {
   "cell_type": "code",
   "execution_count": 39,
   "id": "3f72f5ed",
   "metadata": {},
   "outputs": [
    {
     "data": {
      "text/html": [
       "<div>\n",
       "<style scoped>\n",
       "    .dataframe tbody tr th:only-of-type {\n",
       "        vertical-align: middle;\n",
       "    }\n",
       "\n",
       "    .dataframe tbody tr th {\n",
       "        vertical-align: top;\n",
       "    }\n",
       "\n",
       "    .dataframe thead th {\n",
       "        text-align: right;\n",
       "    }\n",
       "</style>\n",
       "<table border=\"1\" class=\"dataframe\">\n",
       "  <thead>\n",
       "    <tr style=\"text-align: right;\">\n",
       "      <th></th>\n",
       "      <th>chins</th>\n",
       "      <th>situps</th>\n",
       "      <th>jumps</th>\n",
       "    </tr>\n",
       "  </thead>\n",
       "  <tbody>\n",
       "    <tr>\n",
       "      <th>chins</th>\n",
       "      <td>1.000000</td>\n",
       "      <td>0.695727</td>\n",
       "      <td>0.495760</td>\n",
       "    </tr>\n",
       "    <tr>\n",
       "      <th>situps</th>\n",
       "      <td>0.695727</td>\n",
       "      <td>1.000000</td>\n",
       "      <td>0.669206</td>\n",
       "    </tr>\n",
       "    <tr>\n",
       "      <th>jumps</th>\n",
       "      <td>0.495760</td>\n",
       "      <td>0.669206</td>\n",
       "      <td>1.000000</td>\n",
       "    </tr>\n",
       "  </tbody>\n",
       "</table>\n",
       "</div>"
      ],
      "text/plain": [
       "           chins    situps     jumps\n",
       "chins   1.000000  0.695727  0.495760\n",
       "situps  0.695727  1.000000  0.669206\n",
       "jumps   0.495760  0.669206  1.000000"
      ]
     },
     "execution_count": 39,
     "metadata": {},
     "output_type": "execute_result"
    }
   ],
   "source": [
    "## Corelation among features X\n",
    "linnerud_features.corr()"
   ]
  },
  {
   "cell_type": "markdown",
   "id": "7c97fd6b",
   "metadata": {},
   "source": [
    "#### characterstics of target variables"
   ]
  },
  {
   "cell_type": "code",
   "execution_count": 40,
   "id": "761de761",
   "metadata": {},
   "outputs": [
    {
     "data": {
      "text/html": [
       "<div>\n",
       "<style scoped>\n",
       "    .dataframe tbody tr th:only-of-type {\n",
       "        vertical-align: middle;\n",
       "    }\n",
       "\n",
       "    .dataframe tbody tr th {\n",
       "        vertical-align: top;\n",
       "    }\n",
       "\n",
       "    .dataframe thead th {\n",
       "        text-align: right;\n",
       "    }\n",
       "</style>\n",
       "<table border=\"1\" class=\"dataframe\">\n",
       "  <thead>\n",
       "    <tr style=\"text-align: right;\">\n",
       "      <th></th>\n",
       "      <th>weight</th>\n",
       "      <th>waist</th>\n",
       "      <th>pulse</th>\n",
       "    </tr>\n",
       "  </thead>\n",
       "  <tbody>\n",
       "    <tr>\n",
       "      <th>count</th>\n",
       "      <td>20.000000</td>\n",
       "      <td>20.000000</td>\n",
       "      <td>20.000000</td>\n",
       "    </tr>\n",
       "    <tr>\n",
       "      <th>mean</th>\n",
       "      <td>178.600000</td>\n",
       "      <td>35.400000</td>\n",
       "      <td>56.100000</td>\n",
       "    </tr>\n",
       "    <tr>\n",
       "      <th>std</th>\n",
       "      <td>24.690505</td>\n",
       "      <td>3.201973</td>\n",
       "      <td>7.210373</td>\n",
       "    </tr>\n",
       "    <tr>\n",
       "      <th>min</th>\n",
       "      <td>138.000000</td>\n",
       "      <td>31.000000</td>\n",
       "      <td>46.000000</td>\n",
       "    </tr>\n",
       "    <tr>\n",
       "      <th>25%</th>\n",
       "      <td>160.750000</td>\n",
       "      <td>33.000000</td>\n",
       "      <td>51.500000</td>\n",
       "    </tr>\n",
       "    <tr>\n",
       "      <th>50%</th>\n",
       "      <td>176.000000</td>\n",
       "      <td>35.000000</td>\n",
       "      <td>55.000000</td>\n",
       "    </tr>\n",
       "    <tr>\n",
       "      <th>75%</th>\n",
       "      <td>191.500000</td>\n",
       "      <td>37.000000</td>\n",
       "      <td>60.500000</td>\n",
       "    </tr>\n",
       "    <tr>\n",
       "      <th>max</th>\n",
       "      <td>247.000000</td>\n",
       "      <td>46.000000</td>\n",
       "      <td>74.000000</td>\n",
       "    </tr>\n",
       "  </tbody>\n",
       "</table>\n",
       "</div>"
      ],
      "text/plain": [
       "           weight      waist      pulse\n",
       "count   20.000000  20.000000  20.000000\n",
       "mean   178.600000  35.400000  56.100000\n",
       "std     24.690505   3.201973   7.210373\n",
       "min    138.000000  31.000000  46.000000\n",
       "25%    160.750000  33.000000  51.500000\n",
       "50%    176.000000  35.000000  55.000000\n",
       "75%    191.500000  37.000000  60.500000\n",
       "max    247.000000  46.000000  74.000000"
      ]
     },
     "execution_count": 40,
     "metadata": {},
     "output_type": "execute_result"
    }
   ],
   "source": [
    "## Descibing target variables\n",
    "linnerud_targets.describe()"
   ]
  },
  {
   "cell_type": "code",
   "execution_count": 41,
   "id": "c19ce1af",
   "metadata": {},
   "outputs": [
    {
     "data": {
      "text/plain": [
       "array([[<Axes: title={'center': 'weight'}>,\n",
       "        <Axes: title={'center': 'waist'}>],\n",
       "       [<Axes: title={'center': 'pulse'}>, <Axes: >]], dtype=object)"
      ]
     },
     "execution_count": 41,
     "metadata": {},
     "output_type": "execute_result"
    },
    {
     "data": {
      "image/png": "[encoded data removed]",
      "text/plain": [
       "<Figure size 600x400 with 4 Axes>"
      ]
     },
     "metadata": {},
     "output_type": "display_data"
    }
   ],
   "source": [
    "# histograms for targets\n",
    "linnerud_targets.hist(figsize=(6,4))"
   ]
  },
  {
   "cell_type": "code",
   "execution_count": 42,
   "id": "85663dbc",
   "metadata": {},
   "outputs": [
    {
     "data": {
      "text/html": [
       "<div>\n",
       "<style scoped>\n",
       "    .dataframe tbody tr th:only-of-type {\n",
       "        vertical-align: middle;\n",
       "    }\n",
       "\n",
       "    .dataframe tbody tr th {\n",
       "        vertical-align: top;\n",
       "    }\n",
       "\n",
       "    .dataframe thead th {\n",
       "        text-align: right;\n",
       "    }\n",
       "</style>\n",
       "<table border=\"1\" class=\"dataframe\">\n",
       "  <thead>\n",
       "    <tr style=\"text-align: right;\">\n",
       "      <th></th>\n",
       "      <th>weight</th>\n",
       "      <th>waist</th>\n",
       "      <th>pulse</th>\n",
       "    </tr>\n",
       "  </thead>\n",
       "  <tbody>\n",
       "    <tr>\n",
       "      <th>weight</th>\n",
       "      <td>1.000000</td>\n",
       "      <td>0.870243</td>\n",
       "      <td>-0.365762</td>\n",
       "    </tr>\n",
       "    <tr>\n",
       "      <th>waist</th>\n",
       "      <td>0.870243</td>\n",
       "      <td>1.000000</td>\n",
       "      <td>-0.352892</td>\n",
       "    </tr>\n",
       "    <tr>\n",
       "      <th>pulse</th>\n",
       "      <td>-0.365762</td>\n",
       "      <td>-0.352892</td>\n",
       "      <td>1.000000</td>\n",
       "    </tr>\n",
       "  </tbody>\n",
       "</table>\n",
       "</div>"
      ],
      "text/plain": [
       "          weight     waist     pulse\n",
       "weight  1.000000  0.870243 -0.365762\n",
       "waist   0.870243  1.000000 -0.352892\n",
       "pulse  -0.365762 -0.352892  1.000000"
      ]
     },
     "execution_count": 42,
     "metadata": {},
     "output_type": "execute_result"
    }
   ],
   "source": [
    "## Corelation among targets\n",
    "linnerud_targets.corr()"
   ]
  },
  {
   "cell_type": "markdown",
   "id": "6dbc028e",
   "metadata": {},
   "source": [
    "### Discussion on the results of Task-3(a):\n",
    "- Dimensions of features is 20 observations and total 3 features. Similarly for the targets as well 20 observations and 3 targets.\n",
    "- Data type for features and targets both are float type.\n",
    "- There are no missing values in features' data and targets' data\n",
    "- Mean, minimum and maximum values for features-\n",
    "    - means of the three features (Chins, situps and jumps) are 9.43, 145.5 and 70.0 respectively\n",
    "    - minimum values of the three features (Chins, situps and jumps) are 1.0, 50.0 and 25.0  respectively\n",
    "    - maximum values of the three features (Chins, situps and jumps) are 17.0, 251.0 and 250.0 respectively\n",
    "- Mean, minimum and maximum values for targets-\n",
    "    - means of the three targets (weight, waist and pulse) are 178.6, 35.4 and 56.1 respectively\n",
    "    - minimum values of the three targets (weight, waist and pulse) are 138.0, 31.0 and 46.0  respectively\n",
    "    - maximum values of the three targets (weight, waist and pulse) are 247.0, 46.0 and 74.0 respectively \n",
    "- by looking at histograms of both features and target data, we found that all the features and targets are not symmetricaly distributed and have few outliers.\n",
    "- In features' data chins and situps are highly corelated with correlation= 0.69 and similarly situps and jumps have high correlation (0.669).\n",
    "- In targets data weight and waist are highly corelated (0.87) however, weight and pulse and waist and pulse are negatively corelated. So high weight implies high waist but low pulse.\n"
   ]
  },
  {
   "cell_type": "markdown",
   "id": "36a7bc5e",
   "metadata": {},
   "source": [
    "### Task-3(b)\n",
    "- data doesnt seem to be normal, nor symmetric and neither having negative values.\n",
    "- Though, data is strictly positive\n",
    "- So minmax scaler might be more suitable"
   ]
  },
  {
   "cell_type": "code",
   "execution_count": 43,
   "id": "fe7917bb",
   "metadata": {},
   "outputs": [],
   "source": [
    "#Fitting minmax scaler to input and target features and transforming data\n",
    "Scaler_X=MinMaxScaler()\n",
    "Scaler_y=MinMaxScaler()\n",
    "\n",
    "linnerud_features_scaled=Scaler_X.fit_transform(linnerud_features)\n",
    "linnerud_targets_scaled=Scaler_y.fit_transform(linnerud_targets)\n",
    "\n",
    "#Making data frames of features\n",
    "linnerud_features_scaled=pd.DataFrame(linnerud_features_scaled,columns=['chins','situps','jumps']) #Input features\n",
    "\n",
    "linnerud_targets_scaled=pd.DataFrame(linnerud_targets_scaled,columns=['weight','waist','pulse']) # Output features\n"
   ]
  },
  {
   "cell_type": "code",
   "execution_count": 44,
   "id": "d72fae10",
   "metadata": {},
   "outputs": [
    {
     "data": {
      "image/png": "[encoded data removed]",
      "text/plain": [
       "<Figure size 1000x600 with 4 Axes>"
      ]
     },
     "metadata": {},
     "output_type": "display_data"
    }
   ],
   "source": [
    "# density plots before scaling and after scaling for input features and output features using Seaborn library.\n",
    "\n",
    "\n",
    "\n",
    "fig, axes = plt.subplots(2, 2, figsize=(10, 6))\n",
    "\n",
    "sns.kdeplot(linnerud_features,ax=axes[0,0], fill=True)\n",
    "axes[0,0].set_title(\"Probaility density of Input features before scaling \")\n",
    "\n",
    "sns.kdeplot(linnerud_features_scaled, ax=axes[0,1], fill=True)\n",
    "axes[0,1].set_title(\"Probaility density of Input features after scaling \")\n",
    "\n",
    "sns.kdeplot(linnerud_targets, ax=axes[1,0], fill=True)\n",
    "axes[1,0].set_title(\"Probaility density of output features before scaling \")\n",
    "\n",
    "sns.kdeplot(linnerud_targets_scaled, ax=axes[1,1], fill=True)\n",
    "axes[1,1].set_title(\"Probaility density of output features After scaling \")\n",
    "\n",
    "plt.tight_layout() # For auto adjustment of subplots\n",
    "plt.show() # Showing the subplots\n"
   ]
  },
  {
   "cell_type": "markdown",
   "id": "845ede94",
   "metadata": {},
   "source": [
    "### Discussion on Results of Task-3:\n",
    "- By seeing the above pdf, data doesnt seem to be normal, nor symmetric and neither having negative values for both features and targets.\n",
    "- Data is strictly positive,therefore, minmax scaler is used to scale the targets and features too.\n",
    "- kernel density plots in Seaborn is used to plot pdf of features and targets.\n",
    "- We may observe that after scaling the spread of all features are same and spread of all targets are also similar."
   ]
  },
  {
   "cell_type": "markdown",
   "id": "a7565e96",
   "metadata": {},
   "source": [
    "## Task 4 ( 10 points):  Dimensionality reduction and clustering\n",
    "Change this into another dataset.\n",
    "\n",
    "##### Dataset: The Olivetti faces dataset\n",
    "* Number of records: 400\n",
    "* Number of features: 4096\n",
    "* Repository URL: https://scikit-learn.org/stable/datasets/real_world.html\n",
    "\n",
    "##### Problems\n",
    "__a.__ Use KernelPCA\\* for dimensionality reduction. Train a classifier at different numbers (at least 5 values) of dimensions, then check how model score changes as a function of the number of dimensions. \\  \n",
    "__b.__ Cluster the dataset into 40 clusters for at least 2 of the reduced data (done by KernelPCA in a). Print true class vs cluster distribution. Did you manage to recover the original clusters? Describe and comment your results. "
   ]
  },
  {
   "cell_type": "markdown",
   "id": "e5e667e6",
   "metadata": {},
   "source": [
    "# Answer_Task-4:"
   ]
  },
  {
   "cell_type": "markdown",
   "id": "be8cda73",
   "metadata": {},
   "source": [
    "### Task-4(a)\n",
    "\n",
    "#### Dimensionality reduction of features:\n",
    "- There are 4096 features for every observation and just 400 total sample size so we need to reduce the dimensions to avoid overfitting.\n",
    "- features for faces is highly non linear so we may use a nonlinear dimentionality reduction technique called KernelPCA to reduce the dimensions and keep the nonlinear structure too"
   ]
  },
  {
   "cell_type": "code",
   "execution_count": 45,
   "id": "42d3e13c",
   "metadata": {},
   "outputs": [],
   "source": [
    "# Loading the data\n",
    "olivfaces = fetch_olivetti_faces() ### loading the faces' dataset\n",
    "X = olivfaces.data   # X or features is numpy array of dimensions (400, 4096) features are set of 4096 pixels\n",
    "y = olivfaces.target # y is mumpy array of  Labels with dimensions(400,),  grouping faces into 40 types. "
   ]
  },
  {
   "cell_type": "code",
   "execution_count": 46,
   "id": "f5bb9d51",
   "metadata": {},
   "outputs": [
    {
     "name": "stdout",
     "output_type": "stream",
     "text": [
      "values of features lying between  0.0 and 1.0\n"
     ]
    }
   ],
   "source": [
    "# Features are pixels whose values are between 0 and 1\n",
    "print(f'values of features lying between  {X.min()} and {X.max()}')"
   ]
  },
  {
   "cell_type": "code",
   "execution_count": 47,
   "id": "ef545ff9",
   "metadata": {},
   "outputs": [],
   "source": [
    "# Train test split in 80/20\n",
    "X_train, X_test, y_train, y_test = train_test_split(X, y, test_size=0.2, random_state=0) # train test split in 80/20\n",
    "\n",
    "#Scaling the data\n",
    "scaler = MinMaxScaler()\n",
    "X_train = scaler.fit_transform(X_train)\n",
    "X_test = scaler.transform(X_test)\n"
   ]
  },
  {
   "cell_type": "code",
   "execution_count": 48,
   "id": "5e083fe2",
   "metadata": {},
   "outputs": [
    {
     "name": "stdout",
     "output_type": "stream",
     "text": [
      "Model Score with 4 principal components: 0.4500\n",
      "Model Score with 25 principal components: 0.8875\n",
      "Model Score with 49 principal components: 0.9000\n",
      "Model Score with 64 principal components: 0.9000\n",
      "Model Score with 81 principal components: 0.9000\n",
      "Model Score with 100 principal components: 0.8875\n",
      "Model Score with 144 principal components: 0.8875\n",
      "Model Score with 196 principal components: 0.8875\n",
      "Model Score with 225 principal components: 0.8875\n",
      "Model Score with 256 principal components: 0.8875\n",
      "_______________________________________________________________\n",
      "\n",
      "Best dimension of PC: 49.0\n"
     ]
    }
   ],
   "source": [
    "# extracting principal components using kernel PCA\n",
    "# and then  using Support Vector Machine(SVC) with gussian kernel as multi class classifier\n",
    "# And check the model scores on test sample for different numbers of principal components.\n",
    "\n",
    "# following is list of number of PCA to be extracted. we took perfect squares in list as faces have square matrix of pixels\n",
    "n=[4,25,49,64,81,100,144,196,225,256] \n",
    "\n",
    "mylist=[] # initialising list to collect model scores for the different numbers of PC.\n",
    "\n",
    "for i in n:\n",
    "    olive_kpca= KernelPCA(n_components=i, kernel='rbf')# Using Gaussian radius basis function  and default noise parameter gamma=0.01\n",
    "    \n",
    "    X_olive_kpca_train = olive_kpca.fit_transform(X_train) #transformaing features and extracting principal components for training sample\n",
    "    X_olive_kpca_test =olive_kpca.transform(X_test) # PC for test samples\n",
    "    \n",
    "    model = SVC(kernel='rbf', C=1, gamma='scale', random_state=0) ## initializing classifier (kernel SVC)\n",
    "   \n",
    "    # training the SVM model on the scaled training data\n",
    "    model.fit(X_olive_kpca_train, y_train)\n",
    "    \n",
    "    model_score = model.score(X_olive_kpca_test,y_test) # model performance on test data\n",
    "    \n",
    "    print(f'Model Score with {i} principal components: {model_score:.4f}') #printing the model scores on test data\n",
    "    \n",
    "    mylist.append([i,model_score]) # collecting numbers of PCA and model scores in mylist\n",
    "    \n",
    "mylist=np.array(mylist)\n",
    "\n",
    "# Finding the dimensions of PCA for which model score was maximum\n",
    "best_dimension_kpca = mylist[np.argmax(mylist[:,1]),0]\n",
    "print('_______________________________________________________________\\n',)\n",
    "print('Best dimension of PC:',best_dimension_kpca)\n",
    "\n",
    "    "
   ]
  },
  {
   "cell_type": "code",
   "execution_count": 49,
   "id": "8b5096f2",
   "metadata": {},
   "outputs": [
    {
     "data": {
      "image/png": "[encoded data removed]",
      "text/plain": [
       "<Figure size 640x480 with 1 Axes>"
      ]
     },
     "metadata": {},
     "output_type": "display_data"
    }
   ],
   "source": [
    "## Plotting model scores with different dimensions of principal components\n",
    "## This will tell how model score behaves as a function of PC dimensions\n",
    "\n",
    "plt.plot(mylist[:,0], mylist[:,1], marker='o')\n",
    "plt.xlabel('number of principal components extracted')\n",
    "plt.ylabel('Model Score on Test sample')\n",
    "plt.title('Test model score as function of number of principal components')\n",
    "plt.show()\n"
   ]
  },
  {
   "cell_type": "markdown",
   "id": "024fa241",
   "metadata": {},
   "source": [
    "### Results_discussion_Task-4(a):\n",
    "- We used Kernel PCA to reduce the dimensions of data and then used kernen support vector machine classifier for multiclass classification.\n",
    "- nonlinear SVC is used because principal components of kernel PCA are of highly nonlinear nature.\n",
    "- We used a list of 5 possible number of principal components to be extracted i.e., [4,24,49,64,81,100,144,196,225,256].\n",
    "- We have chosen perfect squares in our list as originaly the pixels are in square matrix form (64*64=4096), so we wanted to preseve that square structure.\n",
    "- We found that out of above list, extracting 49 principal components from kernel PCA is optimum as it gives highest model score on test data.\n",
    "- We observed that at the 4 components score was minimum (0.45), then it started growing with increasing number of principal components, it reached maximum score (0.90) at 49 components and remains constant till 81 principal components, then the score dropped further to 0.8875 and remains constant afterwards."
   ]
  },
  {
   "cell_type": "markdown",
   "id": "dad9369e",
   "metadata": {},
   "source": [
    "## Task-4(b)\n",
    "\n",
    "- On the basis of accuracy scores of task 4(a) we have chosen 49 and 100 number of principal components to check."
   ]
  },
  {
   "cell_type": "markdown",
   "id": "d622f0cb",
   "metadata": {},
   "source": [
    "#### For 49 principal components. Using Kmeans method of clustering."
   ]
  },
  {
   "cell_type": "code",
   "execution_count": 50,
   "id": "64cb58a9",
   "metadata": {},
   "outputs": [],
   "source": [
    "\n",
    "# Scaling X features for Kernel PCA\n",
    "scaler = MinMaxScaler()\n",
    "X_scaled = scaler.fit_transform(X)\n",
    "\n",
    "olive_kpca= KernelPCA(n_components=49, kernel='rbf')# Using Gaussian radius basis function and default noise parameter gamma=0.01  \n",
    "X_olive_kpca = olive_kpca.fit_transform(X_scaled) #transformaing features and extracting principal components\n",
    "\n",
    "#Scaling principal components for clustering using minmax scaler\n",
    "# Since each component has different variance so it seems appropriate to scale the principlal components\n",
    "X_olive_kpca_scaled=scaler.fit_transform(X_olive_kpca)\n",
    "\n",
    "# initializing Kmeans model\n",
    "olive_km = KMeans(n_clusters=40, random_state=0)\n",
    "\n",
    "#Training\n",
    "olive_km.fit(X_olive_kpca_scaled)\n",
    "\n",
    "# Get cluster labels\n",
    "cluster_labels = olive_km.labels_\n",
    "\n"
   ]
  },
  {
   "cell_type": "markdown",
   "id": "ee502e53",
   "metadata": {},
   "source": [
    "#### Printing true class vs cluster distribution"
   ]
  },
  {
   "cell_type": "code",
   "execution_count": 51,
   "id": "ed391612",
   "metadata": {},
   "outputs": [
    {
     "name": "stdout",
     "output_type": "stream",
     "text": [
      "True class vs. cluster distribution (RBF Kernel PCA):\n",
      "         Cluster_0  Cluster_1  Cluster_2  Cluster_3  Cluster_4  Cluster_5  \\\n",
      "True_0           0          0          0          0          5          0   \n",
      "True_1           0          0          0          0          0          0   \n",
      "True_2           0          0          0          2          0          0   \n",
      "True_3           0          0          0          8          0          0   \n",
      "True_4           0          1          0          0          0          0   \n",
      "True_5           0          0          0          0          0          0   \n",
      "True_6           0          0          0          0          0          0   \n",
      "True_7           0          0          0          1          0          0   \n",
      "True_8           0          0          0          0          0          0   \n",
      "True_9           0          1          0          1          0          0   \n",
      "True_10          0          0          0          0          0          0   \n",
      "True_11          0          0          0          0          0          0   \n",
      "True_12          0          1          0          0          0          0   \n",
      "True_13          0          0          0          0          0          0   \n",
      "True_14          0          0          0          0          0          0   \n",
      "True_15          0          0          0          0          1          0   \n",
      "True_16          0          0          0          3          0          0   \n",
      "True_17          0          0          0          0          0          0   \n",
      "True_18          0          0          0          0          0          0   \n",
      "True_19          0          0          0          1          0          0   \n",
      "True_20          0          0          0          0          0          0   \n",
      "True_21          9          0          1          0          0          0   \n",
      "True_22          0          0          0          0          0          0   \n",
      "True_23          0          0          0          0          0          0   \n",
      "True_24          0          3          0          0          0          0   \n",
      "True_25          0          0          0          2          0          0   \n",
      "True_26          0          0          0          0          0          0   \n",
      "True_27          0          0          0          3          0          0   \n",
      "True_28          0          0          0          0          0          0   \n",
      "True_29          0          0          0          0          0          0   \n",
      "True_30          0          0          0          0          0          0   \n",
      "True_31          0          0          0          2          0          0   \n",
      "True_32          0          0          0          0          0         10   \n",
      "True_33          0          0          0          0          0          0   \n",
      "True_34          0          3          0          0          0          0   \n",
      "True_35          0          0          0          0          0          0   \n",
      "True_36          0          0          0          0          0          0   \n",
      "True_37          0          0          0          0          0          0   \n",
      "True_38          0          0         10          0          0          0   \n",
      "True_39          0          2          0          0          0          0   \n",
      "\n",
      "         Cluster_6  Cluster_7  Cluster_8  Cluster_9  ...  Cluster_30  \\\n",
      "True_0           0          0          0          0  ...           0   \n",
      "True_1           0          0          0          0  ...           0   \n",
      "True_2           5          1          0          0  ...           0   \n",
      "True_3           0          0          0          0  ...           0   \n",
      "True_4           0          0          0          0  ...           0   \n",
      "True_5           0          0          0          0  ...           0   \n",
      "True_6           0          0          0          0  ...           0   \n",
      "True_7           0          0          0          0  ...           0   \n",
      "True_8           0          9          0          0  ...           0   \n",
      "True_9           0          0          0          0  ...           0   \n",
      "True_10          0          0          0          0  ...           0   \n",
      "True_11          5          4          0          0  ...           0   \n",
      "True_12          0          0          0          0  ...           0   \n",
      "True_13          0          0          0          0  ...           0   \n",
      "True_14          0          0          0          0  ...           0   \n",
      "True_15          0          0          0          0  ...           0   \n",
      "True_16          0          2          0          0  ...           0   \n",
      "True_17          0          0          0          0  ...           0   \n",
      "True_18          0          0          0          0  ...           0   \n",
      "True_19          4          0          0          0  ...           0   \n",
      "True_20          4          0          0          0  ...           0   \n",
      "True_21          0          0          0          0  ...           0   \n",
      "True_22          0          7          0          0  ...           0   \n",
      "True_23          0          0          0          0  ...           0   \n",
      "True_24          0          0          0          0  ...           0   \n",
      "True_25          2          5          0          0  ...           0   \n",
      "True_26          0          0          0          0  ...           0   \n",
      "True_27          0          0          4          0  ...           0   \n",
      "True_28          0          0          0         10  ...           0   \n",
      "True_29          0          0          0          0  ...           0   \n",
      "True_30          0          0          0          0  ...           0   \n",
      "True_31          0          0          0          0  ...           0   \n",
      "True_32          0          0          0          0  ...           0   \n",
      "True_33          0          0          0          0  ...           0   \n",
      "True_34          0          0          0          0  ...           0   \n",
      "True_35          0          0          0          0  ...           0   \n",
      "True_36          0          0          0          0  ...           5   \n",
      "True_37          0          0          0          0  ...           0   \n",
      "True_38          0          0          0          0  ...           0   \n",
      "True_39          3          0          0          0  ...           0   \n",
      "\n",
      "         Cluster_31  Cluster_32  Cluster_33  Cluster_34  Cluster_35  \\\n",
      "True_0            0           0           0           0           0   \n",
      "True_1            0           0           0           0          10   \n",
      "True_2            0           1           0           0           0   \n",
      "True_3            0           0           0           0           0   \n",
      "True_4            9           0           0           0           0   \n",
      "True_5            0           0           0           0           0   \n",
      "True_6            0           0           0           3           0   \n",
      "True_7            0           0           0           0           0   \n",
      "True_8            0           0           0           0           0   \n",
      "True_9            0           0           0           0           0   \n",
      "True_10           0           0           0           0           0   \n",
      "True_11           0           0           0           0           0   \n",
      "True_12           0           5           0           0           0   \n",
      "True_13           0           0           0           0           0   \n",
      "True_14           0          10           0           0           0   \n",
      "True_15           0           0           0           0           0   \n",
      "True_16           0           0           0           0           0   \n",
      "True_17           0           1           0           0           0   \n",
      "True_18           0           0           0           0           0   \n",
      "True_19           0           0           0           0           0   \n",
      "True_20           0           0           0           0           0   \n",
      "True_21           0           0           0           0           0   \n",
      "True_22           0           0           0           0           0   \n",
      "True_23           0           0           0           0           0   \n",
      "True_24           0           0           0           0           0   \n",
      "True_25           0           0           0           0           0   \n",
      "True_26           0           0           0           0           0   \n",
      "True_27           0           0           0           0           0   \n",
      "True_28           0           0           0           0           0   \n",
      "True_29           0           0           0           0           0   \n",
      "True_30           0           0           0           0           0   \n",
      "True_31           5           0           0           0           0   \n",
      "True_32           0           0           0           0           0   \n",
      "True_33           0           0           0           0           0   \n",
      "True_34           1           0           2           0           0   \n",
      "True_35           7           0           0           0           0   \n",
      "True_36           0           0           0           0           0   \n",
      "True_37           0           0           0           0           0   \n",
      "True_38           0           0           0           0           0   \n",
      "True_39           0           0           0           0           0   \n",
      "\n",
      "         Cluster_36  Cluster_37  Cluster_38  Cluster_39  \n",
      "True_0            0           0           0           0  \n",
      "True_1            0           0           0           0  \n",
      "True_2            0           1           0           0  \n",
      "True_3            0           0           0           0  \n",
      "True_4            0           0           0           0  \n",
      "True_5            0           0           0           0  \n",
      "True_6            0           0           0           0  \n",
      "True_7            7           0           0           0  \n",
      "True_8            0           1           0           0  \n",
      "True_9            0           0           8           0  \n",
      "True_10           0           0           0           0  \n",
      "True_11           0           0           0           0  \n",
      "True_12           0           2           0           0  \n",
      "True_13           0           0           0           0  \n",
      "True_14           0           0           0           0  \n",
      "True_15           0           0           4           0  \n",
      "True_16           0           0           0           0  \n",
      "True_17           0           4           0           0  \n",
      "True_18           0           0           0           0  \n",
      "True_19           0           0           0           0  \n",
      "True_20           0           3           0           0  \n",
      "True_21           0           0           0           0  \n",
      "True_22           0           3           0           0  \n",
      "True_23           0           0           0           0  \n",
      "True_24           0           0           0           0  \n",
      "True_25           0           0           0           0  \n",
      "True_26           0           0           0           0  \n",
      "True_27           0           1           0           0  \n",
      "True_28           0           0           0           0  \n",
      "True_29           0           1           0           0  \n",
      "True_30           0           0           0           5  \n",
      "True_31           0           0           0           0  \n",
      "True_32           0           0           0           0  \n",
      "True_33           0           0           0           0  \n",
      "True_34           0           0           0           0  \n",
      "True_35           0           0           0           0  \n",
      "True_36           0           0           0           0  \n",
      "True_37           0           0           0           0  \n",
      "True_38           0           0           0           0  \n",
      "True_39           0           0           0           0  \n",
      "\n",
      "[40 rows x 40 columns]\n"
     ]
    }
   ],
   "source": [
    "# Compare clusters with the true labels using a confusion matrix\n",
    "\n",
    "confusion_rbf = confusion_matrix(y, cluster_labels)\n",
    "\n",
    "# Convert confusion matrices to DataFrames for better visualization\n",
    "df_confusion_rbf = pd.DataFrame(confusion_rbf, index=[f\"True_{i}\" for i in range(40)], columns=[f\"Cluster_{i}\" for i in range(40)])\n",
    "\n",
    "# Display the confusion matrix to observe true class vs. cluster distribution\n",
    "print(\"True class vs. cluster distribution (RBF Kernel PCA):\")\n",
    "print(df_confusion_rbf)"
   ]
  },
  {
   "cell_type": "code",
   "execution_count": 52,
   "id": "ad8e218d",
   "metadata": {},
   "outputs": [
    {
     "name": "stdout",
     "output_type": "stream",
     "text": [
      "truely identified clusters in 400 observations = 13\n"
     ]
    }
   ],
   "source": [
    "# Checking if we could identify any true cluster\n",
    "comp=cluster_labels==y\n",
    "print('truely identified clusters in 400 observations =',sum(comp))\n"
   ]
  },
  {
   "cell_type": "markdown",
   "id": "160cd35e",
   "metadata": {},
   "source": [
    "#### For 100 principal components. Using Kmeans method of clustering."
   ]
  },
  {
   "cell_type": "code",
   "execution_count": 53,
   "id": "c1da1d07",
   "metadata": {},
   "outputs": [],
   "source": [
    "## extracting 100 principal component using kernel PCA\n",
    "olive_kpca= KernelPCA(n_components=100, kernel='rbf')# Using Gaussian radius basis function and default noise parameter gamma=0.01  \n",
    "X_olive_kpca = olive_kpca.fit_transform(X_scaled) #transformaing features and extracting principal components\n",
    "\n",
    "#Scaling principal components for clustering\n",
    "X_olive_kpca_scaled=scaler.fit_transform(X_olive_kpca)\n",
    "\n",
    "# initializing Kmeans model\n",
    "olive_km = KMeans(n_clusters=40, random_state=0)\n",
    "\n",
    "#Training\n",
    "olive_km.fit(X_olive_kpca_scaled)\n",
    "\n",
    "# Get cluster labels\n",
    "cluster_labels = olive_km.labels_\n"
   ]
  },
  {
   "cell_type": "markdown",
   "id": "8fb65deb",
   "metadata": {},
   "source": [
    "#### Printing true class vs cluster distribution for clustering using 100 principal components"
   ]
  },
  {
   "cell_type": "code",
   "execution_count": 54,
   "id": "422aabdd",
   "metadata": {},
   "outputs": [
    {
     "name": "stdout",
     "output_type": "stream",
     "text": [
      "True class vs. cluster distribution (RBF Kernel PCA):\n",
      "         Pred_Clust_0  Pred_Clust_1  Pred_Clust_2  Pred_Clust_3  Pred_Clust_4  \\\n",
      "True_0              0             0             0             0             3   \n",
      "True_1              0             0             0             0             2   \n",
      "True_2              0             0             0             0             0   \n",
      "True_3              0             0             0             0             0   \n",
      "True_4              0             0             0             0             0   \n",
      "True_5              0             0             0             0             0   \n",
      "True_6              0             0             0             1             0   \n",
      "True_7              0             0             0             0             0   \n",
      "True_8              0             0             0             8             0   \n",
      "True_9              0             1             0             0             0   \n",
      "True_10             0             0             0             0             0   \n",
      "True_11             0             0             0             0             0   \n",
      "True_12             0             0             0             0             0   \n",
      "True_13             0             0             0             0             0   \n",
      "True_14             0             0             0             0             0   \n",
      "True_15             0             0             0             0             1   \n",
      "True_16             0             0             0             0             0   \n",
      "True_17             0             0             0             0             0   \n",
      "True_18             0             0             0             0             0   \n",
      "True_19             0             0             0             0             0   \n",
      "True_20             0             0             0             0             0   \n",
      "True_21             9             0             1             0             0   \n",
      "True_22             0             0             0             3             0   \n",
      "True_23             0             0             0             0             0   \n",
      "True_24             0             3             0             0             0   \n",
      "True_25             0             0             0             0             0   \n",
      "True_26             0             0             0             0             0   \n",
      "True_27             0             0             0             0             0   \n",
      "True_28             0             0             0             0             0   \n",
      "True_29             0             0             0             0             0   \n",
      "True_30             0             0             0             0             0   \n",
      "True_31             0             1             1             0             0   \n",
      "True_32             0             0             0             0             0   \n",
      "True_33             0             0             0             0             0   \n",
      "True_34             0             0             0             0             0   \n",
      "True_35             0             0             0             0             0   \n",
      "True_36             0             0             0             0             0   \n",
      "True_37             0             0             0             0             0   \n",
      "True_38             0             0            10             0             0   \n",
      "True_39             0             2             0             0             0   \n",
      "\n",
      "         Pred_Clust_5  Pred_Clust_6  Pred_Clust_7  Pred_Clust_8  Pred_Clust_9  \\\n",
      "True_0              0             0             0             0             0   \n",
      "True_1              0             0             0             0             0   \n",
      "True_2              0             0             1             0             0   \n",
      "True_3              0             0             0             0             0   \n",
      "True_4              0             0             0             0             0   \n",
      "True_5              0             0             0             0             0   \n",
      "True_6              0             0             0             0             0   \n",
      "True_7              1             0             0             0             0   \n",
      "True_8              0             0             1             0             0   \n",
      "True_9              1             0             1             0             0   \n",
      "True_10             0             0             0             0             0   \n",
      "True_11             0             0             0             0             0   \n",
      "True_12             0             0             0             0             0   \n",
      "True_13             1             0             0             0             0   \n",
      "True_14             0             0             0             0             0   \n",
      "True_15             0             0             0             0             0   \n",
      "True_16             0             0             0             0             0   \n",
      "True_17             8             0             1             0             0   \n",
      "True_18             0             0             0             0             0   \n",
      "True_19             0             0             0             0             0   \n",
      "True_20             0             0             0             0             0   \n",
      "True_21             0             0             0             0             0   \n",
      "True_22             0             0             2             0             0   \n",
      "True_23             0             0             0             0             0   \n",
      "True_24             0             0             0             0             0   \n",
      "True_25             0             0             0             8             0   \n",
      "True_26             0             0             0             0             0   \n",
      "True_27             0             0             0             0             0   \n",
      "True_28             0             0             0             0             7   \n",
      "True_29             0             0             0             0             0   \n",
      "True_30             0             0             0             0             0   \n",
      "True_31             0             0             0             0             1   \n",
      "True_32             0             0             0             0             0   \n",
      "True_33             0             0             0             0             0   \n",
      "True_34             0             0             0             0             0   \n",
      "True_35             0             0             0             0             0   \n",
      "True_36             0             0             0             0             0   \n",
      "True_37             0             9             0             0             0   \n",
      "True_38             0             0             0             0             0   \n",
      "True_39             0             0             0             0             0   \n",
      "\n",
      "         ...  Pred_Clust_30  Pred_Clust_31  Pred_Clust_32  Pred_Clust_33  \\\n",
      "True_0   ...              0              0              0              0   \n",
      "True_1   ...              0              0              0              0   \n",
      "True_2   ...              0              0              0              0   \n",
      "True_3   ...              0              0              0              0   \n",
      "True_4   ...              0              9              0              0   \n",
      "True_5   ...              0              0              0              0   \n",
      "True_6   ...              0              0              0              0   \n",
      "True_7   ...              0              0              0              0   \n",
      "True_8   ...              0              0              0              0   \n",
      "True_9   ...              0              0              0              0   \n",
      "True_10  ...              0              0              0              0   \n",
      "True_11  ...              0              0              0              0   \n",
      "True_12  ...              0              0              0              0   \n",
      "True_13  ...              0              0              0              0   \n",
      "True_14  ...              0              0              0              0   \n",
      "True_15  ...              0              0              0              0   \n",
      "True_16  ...              0              0              0              0   \n",
      "True_17  ...              0              0              0              0   \n",
      "True_18  ...              0              0              0              0   \n",
      "True_19  ...              0              0              0              0   \n",
      "True_20  ...              0              0              0              0   \n",
      "True_21  ...              0              0              0              0   \n",
      "True_22  ...              0              0              0              0   \n",
      "True_23  ...              0              0              0              0   \n",
      "True_24  ...              0              0              0              0   \n",
      "True_25  ...              0              0              0              0   \n",
      "True_26  ...              0              0              0              0   \n",
      "True_27  ...              0              0              0              0   \n",
      "True_28  ...              0              0              0              0   \n",
      "True_29  ...              0              0              0              0   \n",
      "True_30  ...              0              0              0              0   \n",
      "True_31  ...              0              0              0              0   \n",
      "True_32  ...              0              0             10              0   \n",
      "True_33  ...              0              0              0              0   \n",
      "True_34  ...              0              1              0              4   \n",
      "True_35  ...              0              0              0              0   \n",
      "True_36  ...              4              0              0              0   \n",
      "True_37  ...              0              0              0              0   \n",
      "True_38  ...              0              0              0              0   \n",
      "True_39  ...              0              0              0              0   \n",
      "\n",
      "         Pred_Clust_34  Pred_Clust_35  Pred_Clust_36  Pred_Clust_37  \\\n",
      "True_0               0              0              0              0   \n",
      "True_1               0              0              0              0   \n",
      "True_2               0              0              0              0   \n",
      "True_3               0              0              0              0   \n",
      "True_4               0              0              0              0   \n",
      "True_5               0              0              0              0   \n",
      "True_6               0              0              0              0   \n",
      "True_7               0              4              0              0   \n",
      "True_8               0              0              0              0   \n",
      "True_9               0              0              0              0   \n",
      "True_10              0              0              0              0   \n",
      "True_11              0              0              0              0   \n",
      "True_12              0              0              0              0   \n",
      "True_13              0              0              0              0   \n",
      "True_14              0              0              0              0   \n",
      "True_15              0              0              0              0   \n",
      "True_16              0              0              0              0   \n",
      "True_17              0              0              0              0   \n",
      "True_18              5              0              0              0   \n",
      "True_19              0              0              0              0   \n",
      "True_20              0              0              0              0   \n",
      "True_21              0              0              0              0   \n",
      "True_22              0              0              0              0   \n",
      "True_23              0              0              0              0   \n",
      "True_24              0              0              0              0   \n",
      "True_25              0              0              0              0   \n",
      "True_26              0              0              0              0   \n",
      "True_27              0              0              0              0   \n",
      "True_28              0              0              0              0   \n",
      "True_29              0              0              0              0   \n",
      "True_30              0              0              0              0   \n",
      "True_31              0              0              0              0   \n",
      "True_32              0              0              0              0   \n",
      "True_33              0              0              0              0   \n",
      "True_34              0              0              0              0   \n",
      "True_35              0              0              0              0   \n",
      "True_36              0              0              1              3   \n",
      "True_37              0              0              0              0   \n",
      "True_38              0              0              0              0   \n",
      "True_39              0              0              0              0   \n",
      "\n",
      "         Pred_Clust_38  Pred_Clust_39  \n",
      "True_0               0              0  \n",
      "True_1               0              0  \n",
      "True_2               0              0  \n",
      "True_3               0              0  \n",
      "True_4               0              0  \n",
      "True_5               0              0  \n",
      "True_6               0              1  \n",
      "True_7               0              0  \n",
      "True_8               0              0  \n",
      "True_9               0              0  \n",
      "True_10              0              0  \n",
      "True_11              0              0  \n",
      "True_12              0              0  \n",
      "True_13              0              0  \n",
      "True_14              0              0  \n",
      "True_15              0              0  \n",
      "True_16              0              0  \n",
      "True_17              0              0  \n",
      "True_18              0              0  \n",
      "True_19              2              0  \n",
      "True_20              0              0  \n",
      "True_21              0              0  \n",
      "True_22              0              0  \n",
      "True_23              0              0  \n",
      "True_24              0              0  \n",
      "True_25              0              0  \n",
      "True_26              0              0  \n",
      "True_27              0              0  \n",
      "True_28              0              0  \n",
      "True_29              0              0  \n",
      "True_30              0              0  \n",
      "True_31              0              0  \n",
      "True_32              0              0  \n",
      "True_33              0              0  \n",
      "True_34              0              0  \n",
      "True_35              0              0  \n",
      "True_36              0              0  \n",
      "True_37              0              0  \n",
      "True_38              0              0  \n",
      "True_39              0              0  \n",
      "\n",
      "[40 rows x 40 columns]\n"
     ]
    }
   ],
   "source": [
    "# Compare clusters with the true labels using a confusion matrix\n",
    "\n",
    "confusion_rbf100 = confusion_matrix(y, cluster_labels)\n",
    "\n",
    "# Convert confusion matrices to DataFrames for better visualization\n",
    "df_confusion_rbf100 = pd.DataFrame(confusion_rbf100, index=[f\"True_{i}\" for i in range(40)], columns=[f\"Pred_Clust_{i}\" for i in range(40)])\n",
    "\n",
    "# Display the confusion matrix to observe true class vs. cluster distribution\n",
    "print(\"True class vs. cluster distribution (RBF Kernel PCA):\")\n",
    "print(df_confusion_rbf100)"
   ]
  },
  {
   "cell_type": "code",
   "execution_count": 55,
   "id": "0d6d03f0",
   "metadata": {},
   "outputs": [
    {
     "name": "stdout",
     "output_type": "stream",
     "text": [
      "truely identified clusters in 400 observations = 20\n"
     ]
    }
   ],
   "source": [
    "# Checking if we could identify any true cluster\n",
    "comp=cluster_labels==y\n",
    "print('truely identified clusters in 400 observations =',sum(comp))\n",
    "\n",
    "# Here we can identify the correct labels of 20 observations"
   ]
  },
  {
   "cell_type": "markdown",
   "id": "6b77fa2b",
   "metadata": {},
   "source": [
    "### Discussion on Results of Task-4(b):\n",
    "- we used two reduced datasets. first by using 49 principal components and two by using 100 principal components because 49 principal component gave best test score in task-4(a) and 100 principal components gave second best test score in task-4(a).\n",
    "- We used popular Kmeans method for clustering here.\n",
    "- distribution of true class and predicted labels were observed and we found that by using 49 clusters we could identify true labels only for 13 observations. While by using 100 principal components we could identify true labels for 20 observations.\n",
    "- Therefore, we are able to recover original clusters only in 20 observations out of 400 observations, which seems to be very low percentage.\n"
   ]
  }
 ],
 "metadata": {
  "kernelspec": {
   "display_name": "Python 3 (ipykernel)",
   "language": "python",
   "name": "python3"
  },
  "language_info": {
   "codemirror_mode": {
    "name": "ipython",
    "version": 3
   },
   "file_extension": ".py",
   "mimetype": "text/x-python",
   "name": "python",
   "nbconvert_exporter": "python",
   "pygments_lexer": "ipython3",
   "version": "3.11.5"
  }
 },
 "nbformat": 4,
 "nbformat_minor": 5
}
